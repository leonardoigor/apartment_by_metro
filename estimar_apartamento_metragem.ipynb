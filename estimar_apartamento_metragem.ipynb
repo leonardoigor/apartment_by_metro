{
  "nbformat": 4,
  "nbformat_minor": 0,
  "metadata": {
    "colab": {
      "name": "Untitled3.ipynb",
      "provenance": [],
      "collapsed_sections": []
    },
    "kernelspec": {
      "name": "python380jvsc74a57bd0293fc23c1878209248cd4442996fb2bc4a1118279092ce4f8dde991075c5d48d",
      "display_name": "Python 3.8.0 64-bit"
    },
    "language_info": {
      "name": "python",
      "version": "3.8.0"
    }
  },
  "cells": [
    {
      "cell_type": "code",
      "metadata": {
        "id": "3BHFFpPLXlAP"
      },
      "source": [
        "import pandas as pd\n",
        "import numpy as np\n",
        "import matplotlib.pyplot as plt\n",
        "import seaborn as sns\n",
        "from sklearn.metrics import accuracy_score\n",
        "import random\n"
      ],
      "execution_count": 39,
      "outputs": []
    },
    {
      "cell_type": "markdown",
      "metadata": {
        "id": "vfGPnPIoclqJ"
      },
      "source": [
        "## Gerar numeros ficticios"
      ]
    },
    {
      "cell_type": "code",
      "metadata": {
        "id": "Qb1Bzl_LYpdk"
      },
      "source": [
        "metric=[30,35,40,45,50,55,60,65,70,75,80,85,90,95,100,105,110,115,120,125]\n",
        "value=[180,190,200,210,220,230,240,250,280,300,330,360,400,450,550,690,750,800,850,900]\n",
        "\n",
        "\n",
        "dic={\n",
        "    'Metragem':metric,\n",
        "     'Valor Imovel':value\n",
        "}"
      ],
      "execution_count": 41,
      "outputs": []
    },
    {
      "cell_type": "code",
      "metadata": {
        "id": "76j2e9iSZ107"
      },
      "source": [
        "df=pd.DataFrame(data=dic)"
      ],
      "execution_count": 43,
      "outputs": []
    },
    {
      "cell_type": "code",
      "metadata": {
        "colab": {
          "base_uri": "https://localhost:8080/",
          "height": 198
        },
        "id": "i7OalywxaE9k",
        "outputId": "9fe48f41-3258-4aa2-9261-418fd53207de"
      },
      "source": [
        "df.head()"
      ],
      "execution_count": 45,
      "outputs": [
        {
          "output_type": "execute_result",
          "data": {
            "text/plain": [
              "   Metragem  Valor Imovel\n",
              "0        30           180\n",
              "1        35           190\n",
              "2        40           200\n",
              "3        45           210\n",
              "4        50           220"
            ],
            "text/html": "<div>\n<style scoped>\n    .dataframe tbody tr th:only-of-type {\n        vertical-align: middle;\n    }\n\n    .dataframe tbody tr th {\n        vertical-align: top;\n    }\n\n    .dataframe thead th {\n        text-align: right;\n    }\n</style>\n<table border=\"1\" class=\"dataframe\">\n  <thead>\n    <tr style=\"text-align: right;\">\n      <th></th>\n      <th>Metragem</th>\n      <th>Valor Imovel</th>\n    </tr>\n  </thead>\n  <tbody>\n    <tr>\n      <th>0</th>\n      <td>30</td>\n      <td>180</td>\n    </tr>\n    <tr>\n      <th>1</th>\n      <td>35</td>\n      <td>190</td>\n    </tr>\n    <tr>\n      <th>2</th>\n      <td>40</td>\n      <td>200</td>\n    </tr>\n    <tr>\n      <th>3</th>\n      <td>45</td>\n      <td>210</td>\n    </tr>\n    <tr>\n      <th>4</th>\n      <td>50</td>\n      <td>220</td>\n    </tr>\n  </tbody>\n</table>\n</div>"
          },
          "metadata": {},
          "execution_count": 45
        }
      ]
    },
    {
      "cell_type": "markdown",
      "metadata": {
        "id": "TPBXgwHxcu2K"
      },
      "source": [
        "## Grafico para analisar os dados"
      ]
    },
    {
      "cell_type": "code",
      "metadata": {
        "colab": {
          "base_uri": "https://localhost:8080/",
          "height": 350
        },
        "id": "SVz9FdjNaLGF",
        "outputId": "d3c1e415-787d-41ea-b6fc-24e7a7369ba6"
      },
      "source": [
        "plt.figure( figsize=(10,5))\n",
        "plt.scatter(df.Metragem,df['Valor Imovel'])\n",
        "\n",
        "plt.title('Preço de apartamento')\n",
        "plt.xlabel('Metragem')\n",
        "plt.ylabel('Valor do Imovel')\n",
        "plt.show()"
      ],
      "execution_count": 47,
      "outputs": [
        {
          "output_type": "display_data",
          "data": {
            "text/plain": "<Figure size 720x360 with 1 Axes>",
            "image/svg+xml": "<?xml version=\"1.0\" encoding=\"utf-8\" standalone=\"no\"?>\r\n<!DOCTYPE svg PUBLIC \"-//W3C//DTD SVG 1.1//EN\"\r\n  \"http://www.w3.org/Graphics/SVG/1.1/DTD/svg11.dtd\">\r\n<svg height=\"331.674375pt\" version=\"1.1\" viewBox=\"0 0 612.165625 331.674375\" width=\"612.165625pt\" xmlns=\"http://www.w3.org/2000/svg\" xmlns:xlink=\"http://www.w3.org/1999/xlink\">\r\n <metadata>\r\n  <rdf:RDF xmlns:cc=\"http://creativecommons.org/ns#\" xmlns:dc=\"http://purl.org/dc/elements/1.1/\" xmlns:rdf=\"http://www.w3.org/1999/02/22-rdf-syntax-ns#\">\r\n   <cc:Work>\r\n    <dc:type rdf:resource=\"http://purl.org/dc/dcmitype/StillImage\"/>\r\n    <dc:date>2021-05-04T23:18:55.823577</dc:date>\r\n    <dc:format>image/svg+xml</dc:format>\r\n    <dc:creator>\r\n     <cc:Agent>\r\n      <dc:title>Matplotlib v3.4.1, https://matplotlib.org/</dc:title>\r\n     </cc:Agent>\r\n    </dc:creator>\r\n   </cc:Work>\r\n  </rdf:RDF>\r\n </metadata>\r\n <defs>\r\n  <style type=\"text/css\">*{stroke-linecap:butt;stroke-linejoin:round;}</style>\r\n </defs>\r\n <g id=\"figure_1\">\r\n  <g id=\"patch_1\">\r\n   <path d=\"M 0 331.674375 \r\nL 612.165625 331.674375 \r\nL 612.165625 0 \r\nL 0 0 \r\nz\r\n\" style=\"fill:none;\"/>\r\n  </g>\r\n  <g id=\"axes_1\">\r\n   <g id=\"patch_2\">\r\n    <path d=\"M 46.965625 294.118125 \r\nL 604.965625 294.118125 \r\nL 604.965625 22.318125 \r\nL 46.965625 22.318125 \r\nz\r\n\" style=\"fill:#ffffff;\"/>\r\n   </g>\r\n   <g id=\"PathCollection_1\">\r\n    <defs>\r\n     <path d=\"M 0 3 \r\nC 0.795609 3 1.55874 2.683901 2.12132 2.12132 \r\nC 2.683901 1.55874 3 0.795609 3 0 \r\nC 3 -0.795609 2.683901 -1.55874 2.12132 -2.12132 \r\nC 1.55874 -2.683901 0.795609 -3 0 -3 \r\nC -0.795609 -3 -1.55874 -2.683901 -2.12132 -2.12132 \r\nC -2.683901 -1.55874 -3 -0.795609 -3 0 \r\nC -3 0.795609 -2.683901 1.55874 -2.12132 2.12132 \r\nC -1.55874 2.683901 -0.795609 3 0 3 \r\nz\r\n\" id=\"md1bac883a3\" style=\"stroke:#1f77b4;\"/>\r\n    </defs>\r\n    <g clip-path=\"url(#pdaac033e06)\">\r\n     <use style=\"fill:#1f77b4;stroke:#1f77b4;\" x=\"72.329261\" xlink:href=\"#md1bac883a3\" y=\"281.76358\"/>\r\n     <use style=\"fill:#1f77b4;stroke:#1f77b4;\" x=\"99.027826\" xlink:href=\"#md1bac883a3\" y=\"278.331761\"/>\r\n     <use style=\"fill:#1f77b4;stroke:#1f77b4;\" x=\"125.726391\" xlink:href=\"#md1bac883a3\" y=\"274.899943\"/>\r\n     <use style=\"fill:#1f77b4;stroke:#1f77b4;\" x=\"152.424955\" xlink:href=\"#md1bac883a3\" y=\"271.468125\"/>\r\n     <use style=\"fill:#1f77b4;stroke:#1f77b4;\" x=\"179.12352\" xlink:href=\"#md1bac883a3\" y=\"268.036307\"/>\r\n     <use style=\"fill:#1f77b4;stroke:#1f77b4;\" x=\"205.822084\" xlink:href=\"#md1bac883a3\" y=\"264.604489\"/>\r\n     <use style=\"fill:#1f77b4;stroke:#1f77b4;\" x=\"232.520649\" xlink:href=\"#md1bac883a3\" y=\"261.17267\"/>\r\n     <use style=\"fill:#1f77b4;stroke:#1f77b4;\" x=\"259.219214\" xlink:href=\"#md1bac883a3\" y=\"257.740852\"/>\r\n     <use style=\"fill:#1f77b4;stroke:#1f77b4;\" x=\"285.917778\" xlink:href=\"#md1bac883a3\" y=\"247.445398\"/>\r\n     <use style=\"fill:#1f77b4;stroke:#1f77b4;\" x=\"312.616343\" xlink:href=\"#md1bac883a3\" y=\"240.581761\"/>\r\n     <use style=\"fill:#1f77b4;stroke:#1f77b4;\" x=\"339.314907\" xlink:href=\"#md1bac883a3\" y=\"230.286307\"/>\r\n     <use style=\"fill:#1f77b4;stroke:#1f77b4;\" x=\"366.013472\" xlink:href=\"#md1bac883a3\" y=\"219.990852\"/>\r\n     <use style=\"fill:#1f77b4;stroke:#1f77b4;\" x=\"392.712036\" xlink:href=\"#md1bac883a3\" y=\"206.26358\"/>\r\n     <use style=\"fill:#1f77b4;stroke:#1f77b4;\" x=\"419.410601\" xlink:href=\"#md1bac883a3\" y=\"189.104489\"/>\r\n     <use style=\"fill:#1f77b4;stroke:#1f77b4;\" x=\"446.109166\" xlink:href=\"#md1bac883a3\" y=\"154.786307\"/>\r\n     <use style=\"fill:#1f77b4;stroke:#1f77b4;\" x=\"472.80773\" xlink:href=\"#md1bac883a3\" y=\"106.740852\"/>\r\n     <use style=\"fill:#1f77b4;stroke:#1f77b4;\" x=\"499.506295\" xlink:href=\"#md1bac883a3\" y=\"86.149943\"/>\r\n     <use style=\"fill:#1f77b4;stroke:#1f77b4;\" x=\"526.204859\" xlink:href=\"#md1bac883a3\" y=\"68.990852\"/>\r\n     <use style=\"fill:#1f77b4;stroke:#1f77b4;\" x=\"552.903424\" xlink:href=\"#md1bac883a3\" y=\"51.831761\"/>\r\n     <use style=\"fill:#1f77b4;stroke:#1f77b4;\" x=\"579.601989\" xlink:href=\"#md1bac883a3\" y=\"34.67267\"/>\r\n    </g>\r\n   </g>\r\n   <g id=\"matplotlib.axis_1\">\r\n    <g id=\"xtick_1\">\r\n     <g id=\"line2d_1\">\r\n      <defs>\r\n       <path d=\"M 0 0 \r\nL 0 3.5 \r\n\" id=\"mf8c990e2df\" style=\"stroke:#000000;stroke-width:0.8;\"/>\r\n      </defs>\r\n      <g>\r\n       <use style=\"stroke:#000000;stroke-width:0.8;\" x=\"125.726391\" xlink:href=\"#mf8c990e2df\" y=\"294.118125\"/>\r\n      </g>\r\n     </g>\r\n     <g id=\"text_1\">\r\n      <!-- 40 -->\r\n      <g transform=\"translate(119.363891 308.716563)scale(0.1 -0.1)\">\r\n       <defs>\r\n        <path d=\"M 2419 4116 \r\nL 825 1625 \r\nL 2419 1625 \r\nL 2419 4116 \r\nz\r\nM 2253 4666 \r\nL 3047 4666 \r\nL 3047 1625 \r\nL 3713 1625 \r\nL 3713 1100 \r\nL 3047 1100 \r\nL 3047 0 \r\nL 2419 0 \r\nL 2419 1100 \r\nL 313 1100 \r\nL 313 1709 \r\nL 2253 4666 \r\nz\r\n\" id=\"DejaVuSans-34\" transform=\"scale(0.015625)\"/>\r\n        <path d=\"M 2034 4250 \r\nQ 1547 4250 1301 3770 \r\nQ 1056 3291 1056 2328 \r\nQ 1056 1369 1301 889 \r\nQ 1547 409 2034 409 \r\nQ 2525 409 2770 889 \r\nQ 3016 1369 3016 2328 \r\nQ 3016 3291 2770 3770 \r\nQ 2525 4250 2034 4250 \r\nz\r\nM 2034 4750 \r\nQ 2819 4750 3233 4129 \r\nQ 3647 3509 3647 2328 \r\nQ 3647 1150 3233 529 \r\nQ 2819 -91 2034 -91 \r\nQ 1250 -91 836 529 \r\nQ 422 1150 422 2328 \r\nQ 422 3509 836 4129 \r\nQ 1250 4750 2034 4750 \r\nz\r\n\" id=\"DejaVuSans-30\" transform=\"scale(0.015625)\"/>\r\n       </defs>\r\n       <use xlink:href=\"#DejaVuSans-34\"/>\r\n       <use x=\"63.623047\" xlink:href=\"#DejaVuSans-30\"/>\r\n      </g>\r\n     </g>\r\n    </g>\r\n    <g id=\"xtick_2\">\r\n     <g id=\"line2d_2\">\r\n      <g>\r\n       <use style=\"stroke:#000000;stroke-width:0.8;\" x=\"232.520649\" xlink:href=\"#mf8c990e2df\" y=\"294.118125\"/>\r\n      </g>\r\n     </g>\r\n     <g id=\"text_2\">\r\n      <!-- 60 -->\r\n      <g transform=\"translate(226.158149 308.716563)scale(0.1 -0.1)\">\r\n       <defs>\r\n        <path d=\"M 2113 2584 \r\nQ 1688 2584 1439 2293 \r\nQ 1191 2003 1191 1497 \r\nQ 1191 994 1439 701 \r\nQ 1688 409 2113 409 \r\nQ 2538 409 2786 701 \r\nQ 3034 994 3034 1497 \r\nQ 3034 2003 2786 2293 \r\nQ 2538 2584 2113 2584 \r\nz\r\nM 3366 4563 \r\nL 3366 3988 \r\nQ 3128 4100 2886 4159 \r\nQ 2644 4219 2406 4219 \r\nQ 1781 4219 1451 3797 \r\nQ 1122 3375 1075 2522 \r\nQ 1259 2794 1537 2939 \r\nQ 1816 3084 2150 3084 \r\nQ 2853 3084 3261 2657 \r\nQ 3669 2231 3669 1497 \r\nQ 3669 778 3244 343 \r\nQ 2819 -91 2113 -91 \r\nQ 1303 -91 875 529 \r\nQ 447 1150 447 2328 \r\nQ 447 3434 972 4092 \r\nQ 1497 4750 2381 4750 \r\nQ 2619 4750 2861 4703 \r\nQ 3103 4656 3366 4563 \r\nz\r\n\" id=\"DejaVuSans-36\" transform=\"scale(0.015625)\"/>\r\n       </defs>\r\n       <use xlink:href=\"#DejaVuSans-36\"/>\r\n       <use x=\"63.623047\" xlink:href=\"#DejaVuSans-30\"/>\r\n      </g>\r\n     </g>\r\n    </g>\r\n    <g id=\"xtick_3\">\r\n     <g id=\"line2d_3\">\r\n      <g>\r\n       <use style=\"stroke:#000000;stroke-width:0.8;\" x=\"339.314907\" xlink:href=\"#mf8c990e2df\" y=\"294.118125\"/>\r\n      </g>\r\n     </g>\r\n     <g id=\"text_3\">\r\n      <!-- 80 -->\r\n      <g transform=\"translate(332.952407 308.716563)scale(0.1 -0.1)\">\r\n       <defs>\r\n        <path d=\"M 2034 2216 \r\nQ 1584 2216 1326 1975 \r\nQ 1069 1734 1069 1313 \r\nQ 1069 891 1326 650 \r\nQ 1584 409 2034 409 \r\nQ 2484 409 2743 651 \r\nQ 3003 894 3003 1313 \r\nQ 3003 1734 2745 1975 \r\nQ 2488 2216 2034 2216 \r\nz\r\nM 1403 2484 \r\nQ 997 2584 770 2862 \r\nQ 544 3141 544 3541 \r\nQ 544 4100 942 4425 \r\nQ 1341 4750 2034 4750 \r\nQ 2731 4750 3128 4425 \r\nQ 3525 4100 3525 3541 \r\nQ 3525 3141 3298 2862 \r\nQ 3072 2584 2669 2484 \r\nQ 3125 2378 3379 2068 \r\nQ 3634 1759 3634 1313 \r\nQ 3634 634 3220 271 \r\nQ 2806 -91 2034 -91 \r\nQ 1263 -91 848 271 \r\nQ 434 634 434 1313 \r\nQ 434 1759 690 2068 \r\nQ 947 2378 1403 2484 \r\nz\r\nM 1172 3481 \r\nQ 1172 3119 1398 2916 \r\nQ 1625 2713 2034 2713 \r\nQ 2441 2713 2670 2916 \r\nQ 2900 3119 2900 3481 \r\nQ 2900 3844 2670 4047 \r\nQ 2441 4250 2034 4250 \r\nQ 1625 4250 1398 4047 \r\nQ 1172 3844 1172 3481 \r\nz\r\n\" id=\"DejaVuSans-38\" transform=\"scale(0.015625)\"/>\r\n       </defs>\r\n       <use xlink:href=\"#DejaVuSans-38\"/>\r\n       <use x=\"63.623047\" xlink:href=\"#DejaVuSans-30\"/>\r\n      </g>\r\n     </g>\r\n    </g>\r\n    <g id=\"xtick_4\">\r\n     <g id=\"line2d_4\">\r\n      <g>\r\n       <use style=\"stroke:#000000;stroke-width:0.8;\" x=\"446.109166\" xlink:href=\"#mf8c990e2df\" y=\"294.118125\"/>\r\n      </g>\r\n     </g>\r\n     <g id=\"text_4\">\r\n      <!-- 100 -->\r\n      <g transform=\"translate(436.565416 308.716563)scale(0.1 -0.1)\">\r\n       <defs>\r\n        <path d=\"M 794 531 \r\nL 1825 531 \r\nL 1825 4091 \r\nL 703 3866 \r\nL 703 4441 \r\nL 1819 4666 \r\nL 2450 4666 \r\nL 2450 531 \r\nL 3481 531 \r\nL 3481 0 \r\nL 794 0 \r\nL 794 531 \r\nz\r\n\" id=\"DejaVuSans-31\" transform=\"scale(0.015625)\"/>\r\n       </defs>\r\n       <use xlink:href=\"#DejaVuSans-31\"/>\r\n       <use x=\"63.623047\" xlink:href=\"#DejaVuSans-30\"/>\r\n       <use x=\"127.246094\" xlink:href=\"#DejaVuSans-30\"/>\r\n      </g>\r\n     </g>\r\n    </g>\r\n    <g id=\"xtick_5\">\r\n     <g id=\"line2d_5\">\r\n      <g>\r\n       <use style=\"stroke:#000000;stroke-width:0.8;\" x=\"552.903424\" xlink:href=\"#mf8c990e2df\" y=\"294.118125\"/>\r\n      </g>\r\n     </g>\r\n     <g id=\"text_5\">\r\n      <!-- 120 -->\r\n      <g transform=\"translate(543.359674 308.716563)scale(0.1 -0.1)\">\r\n       <defs>\r\n        <path d=\"M 1228 531 \r\nL 3431 531 \r\nL 3431 0 \r\nL 469 0 \r\nL 469 531 \r\nQ 828 903 1448 1529 \r\nQ 2069 2156 2228 2338 \r\nQ 2531 2678 2651 2914 \r\nQ 2772 3150 2772 3378 \r\nQ 2772 3750 2511 3984 \r\nQ 2250 4219 1831 4219 \r\nQ 1534 4219 1204 4116 \r\nQ 875 4013 500 3803 \r\nL 500 4441 \r\nQ 881 4594 1212 4672 \r\nQ 1544 4750 1819 4750 \r\nQ 2544 4750 2975 4387 \r\nQ 3406 4025 3406 3419 \r\nQ 3406 3131 3298 2873 \r\nQ 3191 2616 2906 2266 \r\nQ 2828 2175 2409 1742 \r\nQ 1991 1309 1228 531 \r\nz\r\n\" id=\"DejaVuSans-32\" transform=\"scale(0.015625)\"/>\r\n       </defs>\r\n       <use xlink:href=\"#DejaVuSans-31\"/>\r\n       <use x=\"63.623047\" xlink:href=\"#DejaVuSans-32\"/>\r\n       <use x=\"127.246094\" xlink:href=\"#DejaVuSans-30\"/>\r\n      </g>\r\n     </g>\r\n    </g>\r\n    <g id=\"text_6\">\r\n     <!-- Metragem -->\r\n     <g transform=\"translate(300.374219 322.394687)scale(0.1 -0.1)\">\r\n      <defs>\r\n       <path d=\"M 628 4666 \r\nL 1569 4666 \r\nL 2759 1491 \r\nL 3956 4666 \r\nL 4897 4666 \r\nL 4897 0 \r\nL 4281 0 \r\nL 4281 4097 \r\nL 3078 897 \r\nL 2444 897 \r\nL 1241 4097 \r\nL 1241 0 \r\nL 628 0 \r\nL 628 4666 \r\nz\r\n\" id=\"DejaVuSans-4d\" transform=\"scale(0.015625)\"/>\r\n       <path d=\"M 3597 1894 \r\nL 3597 1613 \r\nL 953 1613 \r\nQ 991 1019 1311 708 \r\nQ 1631 397 2203 397 \r\nQ 2534 397 2845 478 \r\nQ 3156 559 3463 722 \r\nL 3463 178 \r\nQ 3153 47 2828 -22 \r\nQ 2503 -91 2169 -91 \r\nQ 1331 -91 842 396 \r\nQ 353 884 353 1716 \r\nQ 353 2575 817 3079 \r\nQ 1281 3584 2069 3584 \r\nQ 2775 3584 3186 3129 \r\nQ 3597 2675 3597 1894 \r\nz\r\nM 3022 2063 \r\nQ 3016 2534 2758 2815 \r\nQ 2500 3097 2075 3097 \r\nQ 1594 3097 1305 2825 \r\nQ 1016 2553 972 2059 \r\nL 3022 2063 \r\nz\r\n\" id=\"DejaVuSans-65\" transform=\"scale(0.015625)\"/>\r\n       <path d=\"M 1172 4494 \r\nL 1172 3500 \r\nL 2356 3500 \r\nL 2356 3053 \r\nL 1172 3053 \r\nL 1172 1153 \r\nQ 1172 725 1289 603 \r\nQ 1406 481 1766 481 \r\nL 2356 481 \r\nL 2356 0 \r\nL 1766 0 \r\nQ 1100 0 847 248 \r\nQ 594 497 594 1153 \r\nL 594 3053 \r\nL 172 3053 \r\nL 172 3500 \r\nL 594 3500 \r\nL 594 4494 \r\nL 1172 4494 \r\nz\r\n\" id=\"DejaVuSans-74\" transform=\"scale(0.015625)\"/>\r\n       <path d=\"M 2631 2963 \r\nQ 2534 3019 2420 3045 \r\nQ 2306 3072 2169 3072 \r\nQ 1681 3072 1420 2755 \r\nQ 1159 2438 1159 1844 \r\nL 1159 0 \r\nL 581 0 \r\nL 581 3500 \r\nL 1159 3500 \r\nL 1159 2956 \r\nQ 1341 3275 1631 3429 \r\nQ 1922 3584 2338 3584 \r\nQ 2397 3584 2469 3576 \r\nQ 2541 3569 2628 3553 \r\nL 2631 2963 \r\nz\r\n\" id=\"DejaVuSans-72\" transform=\"scale(0.015625)\"/>\r\n       <path d=\"M 2194 1759 \r\nQ 1497 1759 1228 1600 \r\nQ 959 1441 959 1056 \r\nQ 959 750 1161 570 \r\nQ 1363 391 1709 391 \r\nQ 2188 391 2477 730 \r\nQ 2766 1069 2766 1631 \r\nL 2766 1759 \r\nL 2194 1759 \r\nz\r\nM 3341 1997 \r\nL 3341 0 \r\nL 2766 0 \r\nL 2766 531 \r\nQ 2569 213 2275 61 \r\nQ 1981 -91 1556 -91 \r\nQ 1019 -91 701 211 \r\nQ 384 513 384 1019 \r\nQ 384 1609 779 1909 \r\nQ 1175 2209 1959 2209 \r\nL 2766 2209 \r\nL 2766 2266 \r\nQ 2766 2663 2505 2880 \r\nQ 2244 3097 1772 3097 \r\nQ 1472 3097 1187 3025 \r\nQ 903 2953 641 2809 \r\nL 641 3341 \r\nQ 956 3463 1253 3523 \r\nQ 1550 3584 1831 3584 \r\nQ 2591 3584 2966 3190 \r\nQ 3341 2797 3341 1997 \r\nz\r\n\" id=\"DejaVuSans-61\" transform=\"scale(0.015625)\"/>\r\n       <path d=\"M 2906 1791 \r\nQ 2906 2416 2648 2759 \r\nQ 2391 3103 1925 3103 \r\nQ 1463 3103 1205 2759 \r\nQ 947 2416 947 1791 \r\nQ 947 1169 1205 825 \r\nQ 1463 481 1925 481 \r\nQ 2391 481 2648 825 \r\nQ 2906 1169 2906 1791 \r\nz\r\nM 3481 434 \r\nQ 3481 -459 3084 -895 \r\nQ 2688 -1331 1869 -1331 \r\nQ 1566 -1331 1297 -1286 \r\nQ 1028 -1241 775 -1147 \r\nL 775 -588 \r\nQ 1028 -725 1275 -790 \r\nQ 1522 -856 1778 -856 \r\nQ 2344 -856 2625 -561 \r\nQ 2906 -266 2906 331 \r\nL 2906 616 \r\nQ 2728 306 2450 153 \r\nQ 2172 0 1784 0 \r\nQ 1141 0 747 490 \r\nQ 353 981 353 1791 \r\nQ 353 2603 747 3093 \r\nQ 1141 3584 1784 3584 \r\nQ 2172 3584 2450 3431 \r\nQ 2728 3278 2906 2969 \r\nL 2906 3500 \r\nL 3481 3500 \r\nL 3481 434 \r\nz\r\n\" id=\"DejaVuSans-67\" transform=\"scale(0.015625)\"/>\r\n       <path d=\"M 3328 2828 \r\nQ 3544 3216 3844 3400 \r\nQ 4144 3584 4550 3584 \r\nQ 5097 3584 5394 3201 \r\nQ 5691 2819 5691 2113 \r\nL 5691 0 \r\nL 5113 0 \r\nL 5113 2094 \r\nQ 5113 2597 4934 2840 \r\nQ 4756 3084 4391 3084 \r\nQ 3944 3084 3684 2787 \r\nQ 3425 2491 3425 1978 \r\nL 3425 0 \r\nL 2847 0 \r\nL 2847 2094 \r\nQ 2847 2600 2669 2842 \r\nQ 2491 3084 2119 3084 \r\nQ 1678 3084 1418 2786 \r\nQ 1159 2488 1159 1978 \r\nL 1159 0 \r\nL 581 0 \r\nL 581 3500 \r\nL 1159 3500 \r\nL 1159 2956 \r\nQ 1356 3278 1631 3431 \r\nQ 1906 3584 2284 3584 \r\nQ 2666 3584 2933 3390 \r\nQ 3200 3197 3328 2828 \r\nz\r\n\" id=\"DejaVuSans-6d\" transform=\"scale(0.015625)\"/>\r\n      </defs>\r\n      <use xlink:href=\"#DejaVuSans-4d\"/>\r\n      <use x=\"86.279297\" xlink:href=\"#DejaVuSans-65\"/>\r\n      <use x=\"147.802734\" xlink:href=\"#DejaVuSans-74\"/>\r\n      <use x=\"187.011719\" xlink:href=\"#DejaVuSans-72\"/>\r\n      <use x=\"228.125\" xlink:href=\"#DejaVuSans-61\"/>\r\n      <use x=\"289.404297\" xlink:href=\"#DejaVuSans-67\"/>\r\n      <use x=\"352.880859\" xlink:href=\"#DejaVuSans-65\"/>\r\n      <use x=\"414.404297\" xlink:href=\"#DejaVuSans-6d\"/>\r\n     </g>\r\n    </g>\r\n   </g>\r\n   <g id=\"matplotlib.axis_2\">\r\n    <g id=\"ytick_1\">\r\n     <g id=\"line2d_6\">\r\n      <defs>\r\n       <path d=\"M 0 0 \r\nL -3.5 0 \r\n\" id=\"me104ea2c10\" style=\"stroke:#000000;stroke-width:0.8;\"/>\r\n      </defs>\r\n      <g>\r\n       <use style=\"stroke:#000000;stroke-width:0.8;\" x=\"46.965625\" xlink:href=\"#me104ea2c10\" y=\"274.899943\"/>\r\n      </g>\r\n     </g>\r\n     <g id=\"text_7\">\r\n      <!-- 200 -->\r\n      <g transform=\"translate(20.878125 278.699162)scale(0.1 -0.1)\">\r\n       <use xlink:href=\"#DejaVuSans-32\"/>\r\n       <use x=\"63.623047\" xlink:href=\"#DejaVuSans-30\"/>\r\n       <use x=\"127.246094\" xlink:href=\"#DejaVuSans-30\"/>\r\n      </g>\r\n     </g>\r\n    </g>\r\n    <g id=\"ytick_2\">\r\n     <g id=\"line2d_7\">\r\n      <g>\r\n       <use style=\"stroke:#000000;stroke-width:0.8;\" x=\"46.965625\" xlink:href=\"#me104ea2c10\" y=\"240.581761\"/>\r\n      </g>\r\n     </g>\r\n     <g id=\"text_8\">\r\n      <!-- 300 -->\r\n      <g transform=\"translate(20.878125 244.38098)scale(0.1 -0.1)\">\r\n       <defs>\r\n        <path d=\"M 2597 2516 \r\nQ 3050 2419 3304 2112 \r\nQ 3559 1806 3559 1356 \r\nQ 3559 666 3084 287 \r\nQ 2609 -91 1734 -91 \r\nQ 1441 -91 1130 -33 \r\nQ 819 25 488 141 \r\nL 488 750 \r\nQ 750 597 1062 519 \r\nQ 1375 441 1716 441 \r\nQ 2309 441 2620 675 \r\nQ 2931 909 2931 1356 \r\nQ 2931 1769 2642 2001 \r\nQ 2353 2234 1838 2234 \r\nL 1294 2234 \r\nL 1294 2753 \r\nL 1863 2753 \r\nQ 2328 2753 2575 2939 \r\nQ 2822 3125 2822 3475 \r\nQ 2822 3834 2567 4026 \r\nQ 2313 4219 1838 4219 \r\nQ 1578 4219 1281 4162 \r\nQ 984 4106 628 3988 \r\nL 628 4550 \r\nQ 988 4650 1302 4700 \r\nQ 1616 4750 1894 4750 \r\nQ 2613 4750 3031 4423 \r\nQ 3450 4097 3450 3541 \r\nQ 3450 3153 3228 2886 \r\nQ 3006 2619 2597 2516 \r\nz\r\n\" id=\"DejaVuSans-33\" transform=\"scale(0.015625)\"/>\r\n       </defs>\r\n       <use xlink:href=\"#DejaVuSans-33\"/>\r\n       <use x=\"63.623047\" xlink:href=\"#DejaVuSans-30\"/>\r\n       <use x=\"127.246094\" xlink:href=\"#DejaVuSans-30\"/>\r\n      </g>\r\n     </g>\r\n    </g>\r\n    <g id=\"ytick_3\">\r\n     <g id=\"line2d_8\">\r\n      <g>\r\n       <use style=\"stroke:#000000;stroke-width:0.8;\" x=\"46.965625\" xlink:href=\"#me104ea2c10\" y=\"206.26358\"/>\r\n      </g>\r\n     </g>\r\n     <g id=\"text_9\">\r\n      <!-- 400 -->\r\n      <g transform=\"translate(20.878125 210.062798)scale(0.1 -0.1)\">\r\n       <use xlink:href=\"#DejaVuSans-34\"/>\r\n       <use x=\"63.623047\" xlink:href=\"#DejaVuSans-30\"/>\r\n       <use x=\"127.246094\" xlink:href=\"#DejaVuSans-30\"/>\r\n      </g>\r\n     </g>\r\n    </g>\r\n    <g id=\"ytick_4\">\r\n     <g id=\"line2d_9\">\r\n      <g>\r\n       <use style=\"stroke:#000000;stroke-width:0.8;\" x=\"46.965625\" xlink:href=\"#me104ea2c10\" y=\"171.945398\"/>\r\n      </g>\r\n     </g>\r\n     <g id=\"text_10\">\r\n      <!-- 500 -->\r\n      <g transform=\"translate(20.878125 175.744616)scale(0.1 -0.1)\">\r\n       <defs>\r\n        <path d=\"M 691 4666 \r\nL 3169 4666 \r\nL 3169 4134 \r\nL 1269 4134 \r\nL 1269 2991 \r\nQ 1406 3038 1543 3061 \r\nQ 1681 3084 1819 3084 \r\nQ 2600 3084 3056 2656 \r\nQ 3513 2228 3513 1497 \r\nQ 3513 744 3044 326 \r\nQ 2575 -91 1722 -91 \r\nQ 1428 -91 1123 -41 \r\nQ 819 9 494 109 \r\nL 494 744 \r\nQ 775 591 1075 516 \r\nQ 1375 441 1709 441 \r\nQ 2250 441 2565 725 \r\nQ 2881 1009 2881 1497 \r\nQ 2881 1984 2565 2268 \r\nQ 2250 2553 1709 2553 \r\nQ 1456 2553 1204 2497 \r\nQ 953 2441 691 2322 \r\nL 691 4666 \r\nz\r\n\" id=\"DejaVuSans-35\" transform=\"scale(0.015625)\"/>\r\n       </defs>\r\n       <use xlink:href=\"#DejaVuSans-35\"/>\r\n       <use x=\"63.623047\" xlink:href=\"#DejaVuSans-30\"/>\r\n       <use x=\"127.246094\" xlink:href=\"#DejaVuSans-30\"/>\r\n      </g>\r\n     </g>\r\n    </g>\r\n    <g id=\"ytick_5\">\r\n     <g id=\"line2d_10\">\r\n      <g>\r\n       <use style=\"stroke:#000000;stroke-width:0.8;\" x=\"46.965625\" xlink:href=\"#me104ea2c10\" y=\"137.627216\"/>\r\n      </g>\r\n     </g>\r\n     <g id=\"text_11\">\r\n      <!-- 600 -->\r\n      <g transform=\"translate(20.878125 141.426435)scale(0.1 -0.1)\">\r\n       <use xlink:href=\"#DejaVuSans-36\"/>\r\n       <use x=\"63.623047\" xlink:href=\"#DejaVuSans-30\"/>\r\n       <use x=\"127.246094\" xlink:href=\"#DejaVuSans-30\"/>\r\n      </g>\r\n     </g>\r\n    </g>\r\n    <g id=\"ytick_6\">\r\n     <g id=\"line2d_11\">\r\n      <g>\r\n       <use style=\"stroke:#000000;stroke-width:0.8;\" x=\"46.965625\" xlink:href=\"#me104ea2c10\" y=\"103.309034\"/>\r\n      </g>\r\n     </g>\r\n     <g id=\"text_12\">\r\n      <!-- 700 -->\r\n      <g transform=\"translate(20.878125 107.108253)scale(0.1 -0.1)\">\r\n       <defs>\r\n        <path d=\"M 525 4666 \r\nL 3525 4666 \r\nL 3525 4397 \r\nL 1831 0 \r\nL 1172 0 \r\nL 2766 4134 \r\nL 525 4134 \r\nL 525 4666 \r\nz\r\n\" id=\"DejaVuSans-37\" transform=\"scale(0.015625)\"/>\r\n       </defs>\r\n       <use xlink:href=\"#DejaVuSans-37\"/>\r\n       <use x=\"63.623047\" xlink:href=\"#DejaVuSans-30\"/>\r\n       <use x=\"127.246094\" xlink:href=\"#DejaVuSans-30\"/>\r\n      </g>\r\n     </g>\r\n    </g>\r\n    <g id=\"ytick_7\">\r\n     <g id=\"line2d_12\">\r\n      <g>\r\n       <use style=\"stroke:#000000;stroke-width:0.8;\" x=\"46.965625\" xlink:href=\"#me104ea2c10\" y=\"68.990852\"/>\r\n      </g>\r\n     </g>\r\n     <g id=\"text_13\">\r\n      <!-- 800 -->\r\n      <g transform=\"translate(20.878125 72.790071)scale(0.1 -0.1)\">\r\n       <use xlink:href=\"#DejaVuSans-38\"/>\r\n       <use x=\"63.623047\" xlink:href=\"#DejaVuSans-30\"/>\r\n       <use x=\"127.246094\" xlink:href=\"#DejaVuSans-30\"/>\r\n      </g>\r\n     </g>\r\n    </g>\r\n    <g id=\"ytick_8\">\r\n     <g id=\"line2d_13\">\r\n      <g>\r\n       <use style=\"stroke:#000000;stroke-width:0.8;\" x=\"46.965625\" xlink:href=\"#me104ea2c10\" y=\"34.67267\"/>\r\n      </g>\r\n     </g>\r\n     <g id=\"text_14\">\r\n      <!-- 900 -->\r\n      <g transform=\"translate(20.878125 38.471889)scale(0.1 -0.1)\">\r\n       <defs>\r\n        <path d=\"M 703 97 \r\nL 703 672 \r\nQ 941 559 1184 500 \r\nQ 1428 441 1663 441 \r\nQ 2288 441 2617 861 \r\nQ 2947 1281 2994 2138 \r\nQ 2813 1869 2534 1725 \r\nQ 2256 1581 1919 1581 \r\nQ 1219 1581 811 2004 \r\nQ 403 2428 403 3163 \r\nQ 403 3881 828 4315 \r\nQ 1253 4750 1959 4750 \r\nQ 2769 4750 3195 4129 \r\nQ 3622 3509 3622 2328 \r\nQ 3622 1225 3098 567 \r\nQ 2575 -91 1691 -91 \r\nQ 1453 -91 1209 -44 \r\nQ 966 3 703 97 \r\nz\r\nM 1959 2075 \r\nQ 2384 2075 2632 2365 \r\nQ 2881 2656 2881 3163 \r\nQ 2881 3666 2632 3958 \r\nQ 2384 4250 1959 4250 \r\nQ 1534 4250 1286 3958 \r\nQ 1038 3666 1038 3163 \r\nQ 1038 2656 1286 2365 \r\nQ 1534 2075 1959 2075 \r\nz\r\n\" id=\"DejaVuSans-39\" transform=\"scale(0.015625)\"/>\r\n       </defs>\r\n       <use xlink:href=\"#DejaVuSans-39\"/>\r\n       <use x=\"63.623047\" xlink:href=\"#DejaVuSans-30\"/>\r\n       <use x=\"127.246094\" xlink:href=\"#DejaVuSans-30\"/>\r\n      </g>\r\n     </g>\r\n    </g>\r\n    <g id=\"text_15\">\r\n     <!-- Valor do Imovel -->\r\n     <g transform=\"translate(14.798437 197.060313)rotate(-90)scale(0.1 -0.1)\">\r\n      <defs>\r\n       <path d=\"M 1831 0 \r\nL 50 4666 \r\nL 709 4666 \r\nL 2188 738 \r\nL 3669 4666 \r\nL 4325 4666 \r\nL 2547 0 \r\nL 1831 0 \r\nz\r\n\" id=\"DejaVuSans-56\" transform=\"scale(0.015625)\"/>\r\n       <path d=\"M 603 4863 \r\nL 1178 4863 \r\nL 1178 0 \r\nL 603 0 \r\nL 603 4863 \r\nz\r\n\" id=\"DejaVuSans-6c\" transform=\"scale(0.015625)\"/>\r\n       <path d=\"M 1959 3097 \r\nQ 1497 3097 1228 2736 \r\nQ 959 2375 959 1747 \r\nQ 959 1119 1226 758 \r\nQ 1494 397 1959 397 \r\nQ 2419 397 2687 759 \r\nQ 2956 1122 2956 1747 \r\nQ 2956 2369 2687 2733 \r\nQ 2419 3097 1959 3097 \r\nz\r\nM 1959 3584 \r\nQ 2709 3584 3137 3096 \r\nQ 3566 2609 3566 1747 \r\nQ 3566 888 3137 398 \r\nQ 2709 -91 1959 -91 \r\nQ 1206 -91 779 398 \r\nQ 353 888 353 1747 \r\nQ 353 2609 779 3096 \r\nQ 1206 3584 1959 3584 \r\nz\r\n\" id=\"DejaVuSans-6f\" transform=\"scale(0.015625)\"/>\r\n       <path id=\"DejaVuSans-20\" transform=\"scale(0.015625)\"/>\r\n       <path d=\"M 2906 2969 \r\nL 2906 4863 \r\nL 3481 4863 \r\nL 3481 0 \r\nL 2906 0 \r\nL 2906 525 \r\nQ 2725 213 2448 61 \r\nQ 2172 -91 1784 -91 \r\nQ 1150 -91 751 415 \r\nQ 353 922 353 1747 \r\nQ 353 2572 751 3078 \r\nQ 1150 3584 1784 3584 \r\nQ 2172 3584 2448 3432 \r\nQ 2725 3281 2906 2969 \r\nz\r\nM 947 1747 \r\nQ 947 1113 1208 752 \r\nQ 1469 391 1925 391 \r\nQ 2381 391 2643 752 \r\nQ 2906 1113 2906 1747 \r\nQ 2906 2381 2643 2742 \r\nQ 2381 3103 1925 3103 \r\nQ 1469 3103 1208 2742 \r\nQ 947 2381 947 1747 \r\nz\r\n\" id=\"DejaVuSans-64\" transform=\"scale(0.015625)\"/>\r\n       <path d=\"M 628 4666 \r\nL 1259 4666 \r\nL 1259 0 \r\nL 628 0 \r\nL 628 4666 \r\nz\r\n\" id=\"DejaVuSans-49\" transform=\"scale(0.015625)\"/>\r\n       <path d=\"M 191 3500 \r\nL 800 3500 \r\nL 1894 563 \r\nL 2988 3500 \r\nL 3597 3500 \r\nL 2284 0 \r\nL 1503 0 \r\nL 191 3500 \r\nz\r\n\" id=\"DejaVuSans-76\" transform=\"scale(0.015625)\"/>\r\n      </defs>\r\n      <use xlink:href=\"#DejaVuSans-56\"/>\r\n      <use x=\"60.658203\" xlink:href=\"#DejaVuSans-61\"/>\r\n      <use x=\"121.9375\" xlink:href=\"#DejaVuSans-6c\"/>\r\n      <use x=\"149.720703\" xlink:href=\"#DejaVuSans-6f\"/>\r\n      <use x=\"210.902344\" xlink:href=\"#DejaVuSans-72\"/>\r\n      <use x=\"252.015625\" xlink:href=\"#DejaVuSans-20\"/>\r\n      <use x=\"283.802734\" xlink:href=\"#DejaVuSans-64\"/>\r\n      <use x=\"347.279297\" xlink:href=\"#DejaVuSans-6f\"/>\r\n      <use x=\"408.460938\" xlink:href=\"#DejaVuSans-20\"/>\r\n      <use x=\"440.248047\" xlink:href=\"#DejaVuSans-49\"/>\r\n      <use x=\"469.740234\" xlink:href=\"#DejaVuSans-6d\"/>\r\n      <use x=\"567.152344\" xlink:href=\"#DejaVuSans-6f\"/>\r\n      <use x=\"628.333984\" xlink:href=\"#DejaVuSans-76\"/>\r\n      <use x=\"687.513672\" xlink:href=\"#DejaVuSans-65\"/>\r\n      <use x=\"749.037109\" xlink:href=\"#DejaVuSans-6c\"/>\r\n     </g>\r\n    </g>\r\n   </g>\r\n   <g id=\"patch_3\">\r\n    <path d=\"M 46.965625 294.118125 \r\nL 46.965625 22.318125 \r\n\" style=\"fill:none;stroke:#000000;stroke-linecap:square;stroke-linejoin:miter;stroke-width:0.8;\"/>\r\n   </g>\r\n   <g id=\"patch_4\">\r\n    <path d=\"M 604.965625 294.118125 \r\nL 604.965625 22.318125 \r\n\" style=\"fill:none;stroke:#000000;stroke-linecap:square;stroke-linejoin:miter;stroke-width:0.8;\"/>\r\n   </g>\r\n   <g id=\"patch_5\">\r\n    <path d=\"M 46.965625 294.118125 \r\nL 604.965625 294.118125 \r\n\" style=\"fill:none;stroke:#000000;stroke-linecap:square;stroke-linejoin:miter;stroke-width:0.8;\"/>\r\n   </g>\r\n   <g id=\"patch_6\">\r\n    <path d=\"M 46.965625 22.318125 \r\nL 604.965625 22.318125 \r\n\" style=\"fill:none;stroke:#000000;stroke-linecap:square;stroke-linejoin:miter;stroke-width:0.8;\"/>\r\n   </g>\r\n   <g id=\"text_16\">\r\n    <!-- Preço de apartamento -->\r\n    <g transform=\"translate(259.12375 16.318125)scale(0.12 -0.12)\">\r\n     <defs>\r\n      <path d=\"M 1259 4147 \r\nL 1259 2394 \r\nL 2053 2394 \r\nQ 2494 2394 2734 2622 \r\nQ 2975 2850 2975 3272 \r\nQ 2975 3691 2734 3919 \r\nQ 2494 4147 2053 4147 \r\nL 1259 4147 \r\nz\r\nM 628 4666 \r\nL 2053 4666 \r\nQ 2838 4666 3239 4311 \r\nQ 3641 3956 3641 3272 \r\nQ 3641 2581 3239 2228 \r\nQ 2838 1875 2053 1875 \r\nL 1259 1875 \r\nL 1259 0 \r\nL 628 0 \r\nL 628 4666 \r\nz\r\n\" id=\"DejaVuSans-50\" transform=\"scale(0.015625)\"/>\r\n      <path d=\"M 3122 3366 \r\nL 3122 2828 \r\nQ 2878 2963 2633 3030 \r\nQ 2388 3097 2138 3097 \r\nQ 1578 3097 1268 2742 \r\nQ 959 2388 959 1747 \r\nQ 959 1106 1268 751 \r\nQ 1578 397 2138 397 \r\nQ 2388 397 2633 464 \r\nQ 2878 531 3122 666 \r\nL 3122 134 \r\nQ 2881 22 2623 -34 \r\nQ 2366 -91 2075 -91 \r\nQ 1284 -91 818 406 \r\nQ 353 903 353 1747 \r\nQ 353 2603 823 3093 \r\nQ 1294 3584 2113 3584 \r\nQ 2378 3584 2631 3529 \r\nQ 2884 3475 3122 3366 \r\nz\r\nM 2311 0 \r\nQ 2482 -194 2566 -358 \r\nQ 2651 -522 2651 -672 \r\nQ 2651 -950 2463 -1092 \r\nQ 2276 -1234 1907 -1234 \r\nQ 1764 -1234 1628 -1215 \r\nQ 1492 -1197 1357 -1159 \r\nL 1357 -750 \r\nQ 1464 -803 1579 -826 \r\nQ 1695 -850 1842 -850 \r\nQ 2026 -850 2120 -775 \r\nQ 2214 -700 2214 -556 \r\nQ 2214 -463 2146 -327 \r\nQ 2079 -191 1939 0 \r\nL 2311 0 \r\nz\r\n\" id=\"DejaVuSans-e7\" transform=\"scale(0.015625)\"/>\r\n      <path d=\"M 1159 525 \r\nL 1159 -1331 \r\nL 581 -1331 \r\nL 581 3500 \r\nL 1159 3500 \r\nL 1159 2969 \r\nQ 1341 3281 1617 3432 \r\nQ 1894 3584 2278 3584 \r\nQ 2916 3584 3314 3078 \r\nQ 3713 2572 3713 1747 \r\nQ 3713 922 3314 415 \r\nQ 2916 -91 2278 -91 \r\nQ 1894 -91 1617 61 \r\nQ 1341 213 1159 525 \r\nz\r\nM 3116 1747 \r\nQ 3116 2381 2855 2742 \r\nQ 2594 3103 2138 3103 \r\nQ 1681 3103 1420 2742 \r\nQ 1159 2381 1159 1747 \r\nQ 1159 1113 1420 752 \r\nQ 1681 391 2138 391 \r\nQ 2594 391 2855 752 \r\nQ 3116 1113 3116 1747 \r\nz\r\n\" id=\"DejaVuSans-70\" transform=\"scale(0.015625)\"/>\r\n      <path d=\"M 3513 2113 \r\nL 3513 0 \r\nL 2938 0 \r\nL 2938 2094 \r\nQ 2938 2591 2744 2837 \r\nQ 2550 3084 2163 3084 \r\nQ 1697 3084 1428 2787 \r\nQ 1159 2491 1159 1978 \r\nL 1159 0 \r\nL 581 0 \r\nL 581 3500 \r\nL 1159 3500 \r\nL 1159 2956 \r\nQ 1366 3272 1645 3428 \r\nQ 1925 3584 2291 3584 \r\nQ 2894 3584 3203 3211 \r\nQ 3513 2838 3513 2113 \r\nz\r\n\" id=\"DejaVuSans-6e\" transform=\"scale(0.015625)\"/>\r\n     </defs>\r\n     <use xlink:href=\"#DejaVuSans-50\"/>\r\n     <use x=\"58.552734\" xlink:href=\"#DejaVuSans-72\"/>\r\n     <use x=\"97.416016\" xlink:href=\"#DejaVuSans-65\"/>\r\n     <use x=\"158.939453\" xlink:href=\"#DejaVuSans-e7\"/>\r\n     <use x=\"213.919922\" xlink:href=\"#DejaVuSans-6f\"/>\r\n     <use x=\"275.101562\" xlink:href=\"#DejaVuSans-20\"/>\r\n     <use x=\"306.888672\" xlink:href=\"#DejaVuSans-64\"/>\r\n     <use x=\"370.365234\" xlink:href=\"#DejaVuSans-65\"/>\r\n     <use x=\"431.888672\" xlink:href=\"#DejaVuSans-20\"/>\r\n     <use x=\"463.675781\" xlink:href=\"#DejaVuSans-61\"/>\r\n     <use x=\"524.955078\" xlink:href=\"#DejaVuSans-70\"/>\r\n     <use x=\"588.431641\" xlink:href=\"#DejaVuSans-61\"/>\r\n     <use x=\"649.710938\" xlink:href=\"#DejaVuSans-72\"/>\r\n     <use x=\"690.824219\" xlink:href=\"#DejaVuSans-74\"/>\r\n     <use x=\"730.033203\" xlink:href=\"#DejaVuSans-61\"/>\r\n     <use x=\"791.3125\" xlink:href=\"#DejaVuSans-6d\"/>\r\n     <use x=\"888.724609\" xlink:href=\"#DejaVuSans-65\"/>\r\n     <use x=\"950.248047\" xlink:href=\"#DejaVuSans-6e\"/>\r\n     <use x=\"1013.626953\" xlink:href=\"#DejaVuSans-74\"/>\r\n     <use x=\"1052.835938\" xlink:href=\"#DejaVuSans-6f\"/>\r\n    </g>\r\n   </g>\r\n  </g>\r\n </g>\r\n <defs>\r\n  <clipPath id=\"pdaac033e06\">\r\n   <rect height=\"271.8\" width=\"558\" x=\"46.965625\" y=\"22.318125\"/>\r\n  </clipPath>\r\n </defs>\r\n</svg>\r\n",
            "image/png": "[encoded data removed]"
          },
          "metadata": {
            "needs_background": "light"
          }
        }
      ]
    },
    {
      "cell_type": "markdown",
      "metadata": {
        "id": "hGrTIbr-c0hF"
      },
      "source": [
        "## separa dados X e Y e calcular correlaçao das variaveis"
      ]
    },
    {
      "cell_type": "code",
      "metadata": {
        "id": "ypvR1h13a2JL"
      },
      "source": [
        "X=df.Metragem.values\n",
        "y=df['Valor Imovel'].values"
      ],
      "execution_count": 48,
      "outputs": []
    },
    {
      "cell_type": "code",
      "metadata": {
        "colab": {
          "base_uri": "https://localhost:8080/"
        },
        "id": "Lcc0hx45bNju",
        "outputId": "9622fefb-ac35-47d2-b879-76fef017f3c6"
      },
      "source": [
        "coef= np.corrcoef(X,y)\n",
        "coef"
      ],
      "execution_count": 49,
      "outputs": [
        {
          "output_type": "execute_result",
          "data": {
            "text/plain": [
              "array([[1.        , 0.93213399],\n",
              "       [0.93213399, 1.        ]])"
            ]
          },
          "metadata": {},
          "execution_count": 49
        }
      ]
    },
    {
      "cell_type": "code",
      "metadata": {
        "colab": {
          "base_uri": "https://localhost:8080/",
          "height": 378
        },
        "id": "V-vlygaubV-v",
        "outputId": "ba89f324-e710-4c16-8fdc-4ea392d0357e"
      },
      "source": [
        "plt.figure( figsize=(6,6))\n",
        "sns.heatmap(coef, linewidths=.1, cmap='viridis', annot=True)\n",
        "plt.show()"
      ],
      "execution_count": 50,
      "outputs": [
        {
          "output_type": "display_data",
          "data": {
            "text/plain": "<Figure size 432x432 with 2 Axes>",
            "image/svg+xml": "<?xml version=\"1.0\" encoding=\"utf-8\" standalone=\"no\"?>\r\n<!DOCTYPE svg PUBLIC \"-//W3C//DTD SVG 1.1//EN\"\r\n  \"http://www.w3.org/Graphics/SVG/1.1/DTD/svg11.dtd\">\r\n<svg height=\"361.037344pt\" version=\"1.1\" viewBox=\"0 0 361.23175 361.037344\" width=\"361.23175pt\" xmlns=\"http://www.w3.org/2000/svg\" xmlns:xlink=\"http://www.w3.org/1999/xlink\">\r\n <metadata>\r\n  <rdf:RDF xmlns:cc=\"http://creativecommons.org/ns#\" xmlns:dc=\"http://purl.org/dc/elements/1.1/\" xmlns:rdf=\"http://www.w3.org/1999/02/22-rdf-syntax-ns#\">\r\n   <cc:Work>\r\n    <dc:type rdf:resource=\"http://purl.org/dc/dcmitype/StillImage\"/>\r\n    <dc:date>2021-05-04T23:18:56.347100</dc:date>\r\n    <dc:format>image/svg+xml</dc:format>\r\n    <dc:creator>\r\n     <cc:Agent>\r\n      <dc:title>Matplotlib v3.4.1, https://matplotlib.org/</dc:title>\r\n     </cc:Agent>\r\n    </dc:creator>\r\n   </cc:Work>\r\n  </rdf:RDF>\r\n </metadata>\r\n <defs>\r\n  <style type=\"text/css\">*{stroke-linecap:butt;stroke-linejoin:round;}</style>\r\n </defs>\r\n <g id=\"figure_1\">\r\n  <g id=\"patch_1\">\r\n   <path d=\"M -0 361.037344 \r\nL 361.23175 361.037344 \r\nL 361.23175 0 \r\nL -0 0 \r\nz\r\n\" style=\"fill:none;\"/>\r\n  </g>\r\n  <g id=\"axes_1\">\r\n   <g id=\"patch_2\">\r\n    <path d=\"M 23.878125 337.159219 \r\nL 291.718125 337.159219 \r\nL 291.718125 10.999219 \r\nL 23.878125 10.999219 \r\nz\r\n\" style=\"fill:#ffffff;\"/>\r\n   </g>\r\n   <g id=\"QuadMesh_1\">\r\n    <path clip-path=\"url(#p601ec707a5)\" d=\"M 23.878125 10.999219 \r\nL 157.798125 10.999219 \r\nL 157.798125 174.079219 \r\nL 23.878125 174.079219 \r\nL 23.878125 10.999219 \r\n\" style=\"fill:#fde725;stroke:#ffffff;stroke-width:0.1;\"/>\r\n    <path clip-path=\"url(#p601ec707a5)\" d=\"M 157.798125 10.999219 \r\nL 291.718125 10.999219 \r\nL 291.718125 174.079219 \r\nL 157.798125 174.079219 \r\nL 157.798125 10.999219 \r\n\" style=\"fill:#440154;stroke:#ffffff;stroke-width:0.1;\"/>\r\n    <path clip-path=\"url(#p601ec707a5)\" d=\"M 23.878125 174.079219 \r\nL 157.798125 174.079219 \r\nL 157.798125 337.159219 \r\nL 23.878125 337.159219 \r\nL 23.878125 174.079219 \r\n\" style=\"fill:#440154;stroke:#ffffff;stroke-width:0.1;\"/>\r\n    <path clip-path=\"url(#p601ec707a5)\" d=\"M 157.798125 174.079219 \r\nL 291.718125 174.079219 \r\nL 291.718125 337.159219 \r\nL 157.798125 337.159219 \r\nL 157.798125 174.079219 \r\n\" style=\"fill:#fde725;stroke:#ffffff;stroke-width:0.1;\"/>\r\n   </g>\r\n   <g id=\"matplotlib.axis_1\">\r\n    <g id=\"xtick_1\">\r\n     <g id=\"line2d_1\">\r\n      <defs>\r\n       <path d=\"M 0 0 \r\nL 0 3.5 \r\n\" id=\"m01cbe8fc2e\" style=\"stroke:#000000;stroke-width:0.8;\"/>\r\n      </defs>\r\n      <g>\r\n       <use style=\"stroke:#000000;stroke-width:0.8;\" x=\"90.838125\" xlink:href=\"#m01cbe8fc2e\" y=\"337.159219\"/>\r\n      </g>\r\n     </g>\r\n     <g id=\"text_1\">\r\n      <!-- 0 -->\r\n      <g transform=\"translate(87.656875 351.757656)scale(0.1 -0.1)\">\r\n       <defs>\r\n        <path d=\"M 2034 4250 \r\nQ 1547 4250 1301 3770 \r\nQ 1056 3291 1056 2328 \r\nQ 1056 1369 1301 889 \r\nQ 1547 409 2034 409 \r\nQ 2525 409 2770 889 \r\nQ 3016 1369 3016 2328 \r\nQ 3016 3291 2770 3770 \r\nQ 2525 4250 2034 4250 \r\nz\r\nM 2034 4750 \r\nQ 2819 4750 3233 4129 \r\nQ 3647 3509 3647 2328 \r\nQ 3647 1150 3233 529 \r\nQ 2819 -91 2034 -91 \r\nQ 1250 -91 836 529 \r\nQ 422 1150 422 2328 \r\nQ 422 3509 836 4129 \r\nQ 1250 4750 2034 4750 \r\nz\r\n\" id=\"DejaVuSans-30\" transform=\"scale(0.015625)\"/>\r\n       </defs>\r\n       <use xlink:href=\"#DejaVuSans-30\"/>\r\n      </g>\r\n     </g>\r\n    </g>\r\n    <g id=\"xtick_2\">\r\n     <g id=\"line2d_2\">\r\n      <g>\r\n       <use style=\"stroke:#000000;stroke-width:0.8;\" x=\"224.758125\" xlink:href=\"#m01cbe8fc2e\" y=\"337.159219\"/>\r\n      </g>\r\n     </g>\r\n     <g id=\"text_2\">\r\n      <!-- 1 -->\r\n      <g transform=\"translate(221.576875 351.757656)scale(0.1 -0.1)\">\r\n       <defs>\r\n        <path d=\"M 794 531 \r\nL 1825 531 \r\nL 1825 4091 \r\nL 703 3866 \r\nL 703 4441 \r\nL 1819 4666 \r\nL 2450 4666 \r\nL 2450 531 \r\nL 3481 531 \r\nL 3481 0 \r\nL 794 0 \r\nL 794 531 \r\nz\r\n\" id=\"DejaVuSans-31\" transform=\"scale(0.015625)\"/>\r\n       </defs>\r\n       <use xlink:href=\"#DejaVuSans-31\"/>\r\n      </g>\r\n     </g>\r\n    </g>\r\n   </g>\r\n   <g id=\"matplotlib.axis_2\">\r\n    <g id=\"ytick_1\">\r\n     <g id=\"line2d_3\">\r\n      <defs>\r\n       <path d=\"M 0 0 \r\nL -3.5 0 \r\n\" id=\"mdb9dd512fe\" style=\"stroke:#000000;stroke-width:0.8;\"/>\r\n      </defs>\r\n      <g>\r\n       <use style=\"stroke:#000000;stroke-width:0.8;\" x=\"23.878125\" xlink:href=\"#mdb9dd512fe\" y=\"92.539219\"/>\r\n      </g>\r\n     </g>\r\n     <g id=\"text_3\">\r\n      <!-- 0 -->\r\n      <g transform=\"translate(14.798438 95.1025)rotate(-90)scale(0.1 -0.1)\">\r\n       <use xlink:href=\"#DejaVuSans-30\"/>\r\n      </g>\r\n     </g>\r\n    </g>\r\n    <g id=\"ytick_2\">\r\n     <g id=\"line2d_4\">\r\n      <g>\r\n       <use style=\"stroke:#000000;stroke-width:0.8;\" x=\"23.878125\" xlink:href=\"#mdb9dd512fe\" y=\"255.619219\"/>\r\n      </g>\r\n     </g>\r\n     <g id=\"text_4\">\r\n      <!-- 1 -->\r\n      <g transform=\"translate(14.798438 258.1825)rotate(-90)scale(0.1 -0.1)\">\r\n       <use xlink:href=\"#DejaVuSans-31\"/>\r\n      </g>\r\n     </g>\r\n    </g>\r\n   </g>\r\n   <g id=\"text_5\">\r\n    <!-- 1 -->\r\n    <g style=\"fill:#262626;\" transform=\"translate(87.656875 95.298594)scale(0.1 -0.1)\">\r\n     <use xlink:href=\"#DejaVuSans-31\"/>\r\n    </g>\r\n   </g>\r\n   <g id=\"text_6\">\r\n    <!-- 0.93 -->\r\n    <g style=\"fill:#ffffff;\" transform=\"translate(213.625313 95.298594)scale(0.1 -0.1)\">\r\n     <defs>\r\n      <path d=\"M 684 794 \r\nL 1344 794 \r\nL 1344 0 \r\nL 684 0 \r\nL 684 794 \r\nz\r\n\" id=\"DejaVuSans-2e\" transform=\"scale(0.015625)\"/>\r\n      <path d=\"M 703 97 \r\nL 703 672 \r\nQ 941 559 1184 500 \r\nQ 1428 441 1663 441 \r\nQ 2288 441 2617 861 \r\nQ 2947 1281 2994 2138 \r\nQ 2813 1869 2534 1725 \r\nQ 2256 1581 1919 1581 \r\nQ 1219 1581 811 2004 \r\nQ 403 2428 403 3163 \r\nQ 403 3881 828 4315 \r\nQ 1253 4750 1959 4750 \r\nQ 2769 4750 3195 4129 \r\nQ 3622 3509 3622 2328 \r\nQ 3622 1225 3098 567 \r\nQ 2575 -91 1691 -91 \r\nQ 1453 -91 1209 -44 \r\nQ 966 3 703 97 \r\nz\r\nM 1959 2075 \r\nQ 2384 2075 2632 2365 \r\nQ 2881 2656 2881 3163 \r\nQ 2881 3666 2632 3958 \r\nQ 2384 4250 1959 4250 \r\nQ 1534 4250 1286 3958 \r\nQ 1038 3666 1038 3163 \r\nQ 1038 2656 1286 2365 \r\nQ 1534 2075 1959 2075 \r\nz\r\n\" id=\"DejaVuSans-39\" transform=\"scale(0.015625)\"/>\r\n      <path d=\"M 2597 2516 \r\nQ 3050 2419 3304 2112 \r\nQ 3559 1806 3559 1356 \r\nQ 3559 666 3084 287 \r\nQ 2609 -91 1734 -91 \r\nQ 1441 -91 1130 -33 \r\nQ 819 25 488 141 \r\nL 488 750 \r\nQ 750 597 1062 519 \r\nQ 1375 441 1716 441 \r\nQ 2309 441 2620 675 \r\nQ 2931 909 2931 1356 \r\nQ 2931 1769 2642 2001 \r\nQ 2353 2234 1838 2234 \r\nL 1294 2234 \r\nL 1294 2753 \r\nL 1863 2753 \r\nQ 2328 2753 2575 2939 \r\nQ 2822 3125 2822 3475 \r\nQ 2822 3834 2567 4026 \r\nQ 2313 4219 1838 4219 \r\nQ 1578 4219 1281 4162 \r\nQ 984 4106 628 3988 \r\nL 628 4550 \r\nQ 988 4650 1302 4700 \r\nQ 1616 4750 1894 4750 \r\nQ 2613 4750 3031 4423 \r\nQ 3450 4097 3450 3541 \r\nQ 3450 3153 3228 2886 \r\nQ 3006 2619 2597 2516 \r\nz\r\n\" id=\"DejaVuSans-33\" transform=\"scale(0.015625)\"/>\r\n     </defs>\r\n     <use xlink:href=\"#DejaVuSans-30\"/>\r\n     <use x=\"63.623047\" xlink:href=\"#DejaVuSans-2e\"/>\r\n     <use x=\"95.410156\" xlink:href=\"#DejaVuSans-39\"/>\r\n     <use x=\"159.033203\" xlink:href=\"#DejaVuSans-33\"/>\r\n    </g>\r\n   </g>\r\n   <g id=\"text_7\">\r\n    <!-- 0.93 -->\r\n    <g style=\"fill:#ffffff;\" transform=\"translate(79.705313 258.378594)scale(0.1 -0.1)\">\r\n     <use xlink:href=\"#DejaVuSans-30\"/>\r\n     <use x=\"63.623047\" xlink:href=\"#DejaVuSans-2e\"/>\r\n     <use x=\"95.410156\" xlink:href=\"#DejaVuSans-39\"/>\r\n     <use x=\"159.033203\" xlink:href=\"#DejaVuSans-33\"/>\r\n    </g>\r\n   </g>\r\n   <g id=\"text_8\">\r\n    <!-- 1 -->\r\n    <g style=\"fill:#262626;\" transform=\"translate(221.576875 258.378594)scale(0.1 -0.1)\">\r\n     <use xlink:href=\"#DejaVuSans-31\"/>\r\n    </g>\r\n   </g>\r\n  </g>\r\n  <g id=\"axes_2\">\r\n   <g id=\"patch_3\">\r\n    <path d=\"M 308.458125 337.159219 \r\nL 324.766125 337.159219 \r\nL 324.766125 10.999219 \r\nL 308.458125 10.999219 \r\nz\r\n\" style=\"fill:#ffffff;\"/>\r\n   </g>\r\n   <g id=\"patch_4\">\r\n    <path clip-path=\"url(#p3ef71f89cb)\" d=\"M 308.458125 337.159219 \r\nL 308.458125 335.885156 \r\nL 308.458125 12.273281 \r\nL 308.458125 10.999219 \r\nL 324.766125 10.999219 \r\nL 324.766125 12.273281 \r\nL 324.766125 335.885156 \r\nL 324.766125 337.159219 \r\nL 324.766125 337.159219 \r\nz\r\n\" style=\"fill:#ffffff;stroke:#ffffff;stroke-linejoin:miter;stroke-width:0.01;\"/>\r\n   </g>\r\n   <image height=\"326\" id=\"imageddb2abdd98\" transform=\"scale(1 -1)translate(0 -326)\" width=\"17\" x=\"308\" xlink:href=\"data:image/png;base64,\r\niVBORw0KGgoAAAANSUhEUgAAABEAAAFGCAYAAACMkXQBAAAB0klEQVR4nO2cwY3DMAwERcWlpYT0X0qSv+0fx8BgQRWwWA6XlHIHuN71+a3mOVbtrsY6aldbpG9jmcpBnEBMmHIAkdpAdwgnFFhJOUyLaxL7iEhc2CwieWEjWiy6iz1gNUw0Yfsx905bY8J2J0J0h0osIWIByzDRzE5c2PpGKCaW7lCJBUSgKe47SZtixokILCACbTbESV9E9HoMYzJhu5wBez2i9wn0tCCciMBKcpIHFhDRgFVtNsTJPPzOItBvQEBkpvgZJxO2G5G0sPU1RN1JS2xY2DRMRGHLYjKJvRHJYhK2Yz1gPUzCEnus6j9z8pgAIprEqsAmhU0EFgpbvzsiJiaRKLATtqsI8EdQaD2mXRlLwuSotMRKwDJMPAOIgCXKocBKcgKB7RsxgQ0L2xYxGbBnEYTJJi70AfuME9FmQ8BCYbOAZZhEiUBgiZykMbGU4+kOBfZLiAzY02HAvixgRUyQsL2YsPXLEa1HKGxZTIByqO5owBKzQ5QD7dis9Ri22UQDSDiZKb5zInkpqRKLrAJL2DRPCyaxHrCeKWbuHQ1YEZOszaZhInr4QUw0TvpGsCkmRIB/GKuYIOUAIhBYyzdhILDAN+uY7mg+X0kw+QOono2OgX8TJgAAAABJRU5ErkJggg==\" y=\"-11\"/>\r\n   <g id=\"matplotlib.axis_3\"/>\r\n   <g id=\"matplotlib.axis_4\">\r\n    <g id=\"ytick_3\">\r\n     <g id=\"line2d_5\">\r\n      <defs>\r\n       <path d=\"M 0 0 \r\nL 3.5 0 \r\n\" id=\"m958c0267b3\" style=\"stroke:#000000;stroke-width:0.8;\"/>\r\n      </defs>\r\n      <g>\r\n       <use style=\"stroke:#000000;stroke-width:0.8;\" x=\"324.766125\" xlink:href=\"#m958c0267b3\" y=\"299.355646\"/>\r\n      </g>\r\n     </g>\r\n     <g id=\"text_9\">\r\n      <!-- 0.94 -->\r\n      <g transform=\"translate(331.766125 303.154865)scale(0.1 -0.1)\">\r\n       <defs>\r\n        <path d=\"M 2419 4116 \r\nL 825 1625 \r\nL 2419 1625 \r\nL 2419 4116 \r\nz\r\nM 2253 4666 \r\nL 3047 4666 \r\nL 3047 1625 \r\nL 3713 1625 \r\nL 3713 1100 \r\nL 3047 1100 \r\nL 3047 0 \r\nL 2419 0 \r\nL 2419 1100 \r\nL 313 1100 \r\nL 313 1709 \r\nL 2253 4666 \r\nz\r\n\" id=\"DejaVuSans-34\" transform=\"scale(0.015625)\"/>\r\n       </defs>\r\n       <use xlink:href=\"#DejaVuSans-30\"/>\r\n       <use x=\"63.623047\" xlink:href=\"#DejaVuSans-2e\"/>\r\n       <use x=\"95.410156\" xlink:href=\"#DejaVuSans-39\"/>\r\n       <use x=\"159.033203\" xlink:href=\"#DejaVuSans-34\"/>\r\n      </g>\r\n     </g>\r\n    </g>\r\n    <g id=\"ytick_4\">\r\n     <g id=\"line2d_6\">\r\n      <g>\r\n       <use style=\"stroke:#000000;stroke-width:0.8;\" x=\"324.766125\" xlink:href=\"#m958c0267b3\" y=\"251.296241\"/>\r\n      </g>\r\n     </g>\r\n     <g id=\"text_10\">\r\n      <!-- 0.95 -->\r\n      <g transform=\"translate(331.766125 255.09546)scale(0.1 -0.1)\">\r\n       <defs>\r\n        <path d=\"M 691 4666 \r\nL 3169 4666 \r\nL 3169 4134 \r\nL 1269 4134 \r\nL 1269 2991 \r\nQ 1406 3038 1543 3061 \r\nQ 1681 3084 1819 3084 \r\nQ 2600 3084 3056 2656 \r\nQ 3513 2228 3513 1497 \r\nQ 3513 744 3044 326 \r\nQ 2575 -91 1722 -91 \r\nQ 1428 -91 1123 -41 \r\nQ 819 9 494 109 \r\nL 494 744 \r\nQ 775 591 1075 516 \r\nQ 1375 441 1709 441 \r\nQ 2250 441 2565 725 \r\nQ 2881 1009 2881 1497 \r\nQ 2881 1984 2565 2268 \r\nQ 2250 2553 1709 2553 \r\nQ 1456 2553 1204 2497 \r\nQ 953 2441 691 2322 \r\nL 691 4666 \r\nz\r\n\" id=\"DejaVuSans-35\" transform=\"scale(0.015625)\"/>\r\n       </defs>\r\n       <use xlink:href=\"#DejaVuSans-30\"/>\r\n       <use x=\"63.623047\" xlink:href=\"#DejaVuSans-2e\"/>\r\n       <use x=\"95.410156\" xlink:href=\"#DejaVuSans-39\"/>\r\n       <use x=\"159.033203\" xlink:href=\"#DejaVuSans-35\"/>\r\n      </g>\r\n     </g>\r\n    </g>\r\n    <g id=\"ytick_5\">\r\n     <g id=\"line2d_7\">\r\n      <g>\r\n       <use style=\"stroke:#000000;stroke-width:0.8;\" x=\"324.766125\" xlink:href=\"#m958c0267b3\" y=\"203.236837\"/>\r\n      </g>\r\n     </g>\r\n     <g id=\"text_11\">\r\n      <!-- 0.96 -->\r\n      <g transform=\"translate(331.766125 207.036056)scale(0.1 -0.1)\">\r\n       <defs>\r\n        <path d=\"M 2113 2584 \r\nQ 1688 2584 1439 2293 \r\nQ 1191 2003 1191 1497 \r\nQ 1191 994 1439 701 \r\nQ 1688 409 2113 409 \r\nQ 2538 409 2786 701 \r\nQ 3034 994 3034 1497 \r\nQ 3034 2003 2786 2293 \r\nQ 2538 2584 2113 2584 \r\nz\r\nM 3366 4563 \r\nL 3366 3988 \r\nQ 3128 4100 2886 4159 \r\nQ 2644 4219 2406 4219 \r\nQ 1781 4219 1451 3797 \r\nQ 1122 3375 1075 2522 \r\nQ 1259 2794 1537 2939 \r\nQ 1816 3084 2150 3084 \r\nQ 2853 3084 3261 2657 \r\nQ 3669 2231 3669 1497 \r\nQ 3669 778 3244 343 \r\nQ 2819 -91 2113 -91 \r\nQ 1303 -91 875 529 \r\nQ 447 1150 447 2328 \r\nQ 447 3434 972 4092 \r\nQ 1497 4750 2381 4750 \r\nQ 2619 4750 2861 4703 \r\nQ 3103 4656 3366 4563 \r\nz\r\n\" id=\"DejaVuSans-36\" transform=\"scale(0.015625)\"/>\r\n       </defs>\r\n       <use xlink:href=\"#DejaVuSans-30\"/>\r\n       <use x=\"63.623047\" xlink:href=\"#DejaVuSans-2e\"/>\r\n       <use x=\"95.410156\" xlink:href=\"#DejaVuSans-39\"/>\r\n       <use x=\"159.033203\" xlink:href=\"#DejaVuSans-36\"/>\r\n      </g>\r\n     </g>\r\n    </g>\r\n    <g id=\"ytick_6\">\r\n     <g id=\"line2d_8\">\r\n      <g>\r\n       <use style=\"stroke:#000000;stroke-width:0.8;\" x=\"324.766125\" xlink:href=\"#m958c0267b3\" y=\"155.177432\"/>\r\n      </g>\r\n     </g>\r\n     <g id=\"text_12\">\r\n      <!-- 0.97 -->\r\n      <g transform=\"translate(331.766125 158.976651)scale(0.1 -0.1)\">\r\n       <defs>\r\n        <path d=\"M 525 4666 \r\nL 3525 4666 \r\nL 3525 4397 \r\nL 1831 0 \r\nL 1172 0 \r\nL 2766 4134 \r\nL 525 4134 \r\nL 525 4666 \r\nz\r\n\" id=\"DejaVuSans-37\" transform=\"scale(0.015625)\"/>\r\n       </defs>\r\n       <use xlink:href=\"#DejaVuSans-30\"/>\r\n       <use x=\"63.623047\" xlink:href=\"#DejaVuSans-2e\"/>\r\n       <use x=\"95.410156\" xlink:href=\"#DejaVuSans-39\"/>\r\n       <use x=\"159.033203\" xlink:href=\"#DejaVuSans-37\"/>\r\n      </g>\r\n     </g>\r\n    </g>\r\n    <g id=\"ytick_7\">\r\n     <g id=\"line2d_9\">\r\n      <g>\r\n       <use style=\"stroke:#000000;stroke-width:0.8;\" x=\"324.766125\" xlink:href=\"#m958c0267b3\" y=\"107.118028\"/>\r\n      </g>\r\n     </g>\r\n     <g id=\"text_13\">\r\n      <!-- 0.98 -->\r\n      <g transform=\"translate(331.766125 110.917247)scale(0.1 -0.1)\">\r\n       <defs>\r\n        <path d=\"M 2034 2216 \r\nQ 1584 2216 1326 1975 \r\nQ 1069 1734 1069 1313 \r\nQ 1069 891 1326 650 \r\nQ 1584 409 2034 409 \r\nQ 2484 409 2743 651 \r\nQ 3003 894 3003 1313 \r\nQ 3003 1734 2745 1975 \r\nQ 2488 2216 2034 2216 \r\nz\r\nM 1403 2484 \r\nQ 997 2584 770 2862 \r\nQ 544 3141 544 3541 \r\nQ 544 4100 942 4425 \r\nQ 1341 4750 2034 4750 \r\nQ 2731 4750 3128 4425 \r\nQ 3525 4100 3525 3541 \r\nQ 3525 3141 3298 2862 \r\nQ 3072 2584 2669 2484 \r\nQ 3125 2378 3379 2068 \r\nQ 3634 1759 3634 1313 \r\nQ 3634 634 3220 271 \r\nQ 2806 -91 2034 -91 \r\nQ 1263 -91 848 271 \r\nQ 434 634 434 1313 \r\nQ 434 1759 690 2068 \r\nQ 947 2378 1403 2484 \r\nz\r\nM 1172 3481 \r\nQ 1172 3119 1398 2916 \r\nQ 1625 2713 2034 2713 \r\nQ 2441 2713 2670 2916 \r\nQ 2900 3119 2900 3481 \r\nQ 2900 3844 2670 4047 \r\nQ 2441 4250 2034 4250 \r\nQ 1625 4250 1398 4047 \r\nQ 1172 3844 1172 3481 \r\nz\r\n\" id=\"DejaVuSans-38\" transform=\"scale(0.015625)\"/>\r\n       </defs>\r\n       <use xlink:href=\"#DejaVuSans-30\"/>\r\n       <use x=\"63.623047\" xlink:href=\"#DejaVuSans-2e\"/>\r\n       <use x=\"95.410156\" xlink:href=\"#DejaVuSans-39\"/>\r\n       <use x=\"159.033203\" xlink:href=\"#DejaVuSans-38\"/>\r\n      </g>\r\n     </g>\r\n    </g>\r\n    <g id=\"ytick_8\">\r\n     <g id=\"line2d_10\">\r\n      <g>\r\n       <use style=\"stroke:#000000;stroke-width:0.8;\" x=\"324.766125\" xlink:href=\"#m958c0267b3\" y=\"59.058623\"/>\r\n      </g>\r\n     </g>\r\n     <g id=\"text_14\">\r\n      <!-- 0.99 -->\r\n      <g transform=\"translate(331.766125 62.857842)scale(0.1 -0.1)\">\r\n       <use xlink:href=\"#DejaVuSans-30\"/>\r\n       <use x=\"63.623047\" xlink:href=\"#DejaVuSans-2e\"/>\r\n       <use x=\"95.410156\" xlink:href=\"#DejaVuSans-39\"/>\r\n       <use x=\"159.033203\" xlink:href=\"#DejaVuSans-39\"/>\r\n      </g>\r\n     </g>\r\n    </g>\r\n    <g id=\"ytick_9\">\r\n     <g id=\"line2d_11\">\r\n      <g>\r\n       <use style=\"stroke:#000000;stroke-width:0.8;\" x=\"324.766125\" xlink:href=\"#m958c0267b3\" y=\"10.999219\"/>\r\n      </g>\r\n     </g>\r\n     <g id=\"text_15\">\r\n      <!-- 1.00 -->\r\n      <g transform=\"translate(331.766125 14.798437)scale(0.1 -0.1)\">\r\n       <use xlink:href=\"#DejaVuSans-31\"/>\r\n       <use x=\"63.623047\" xlink:href=\"#DejaVuSans-2e\"/>\r\n       <use x=\"95.410156\" xlink:href=\"#DejaVuSans-30\"/>\r\n       <use x=\"159.033203\" xlink:href=\"#DejaVuSans-30\"/>\r\n      </g>\r\n     </g>\r\n    </g>\r\n   </g>\r\n   <g id=\"LineCollection_1\"/>\r\n   <g id=\"patch_5\">\r\n    <path d=\"M 308.458125 337.159219 \r\nL 308.458125 335.885156 \r\nL 308.458125 12.273281 \r\nL 308.458125 10.999219 \r\nL 324.766125 10.999219 \r\nL 324.766125 12.273281 \r\nL 324.766125 335.885156 \r\nL 324.766125 337.159219 \r\nz\r\n\" style=\"fill:none;\"/>\r\n   </g>\r\n  </g>\r\n </g>\r\n <defs>\r\n  <clipPath id=\"p601ec707a5\">\r\n   <rect height=\"326.16\" width=\"267.84\" x=\"23.878125\" y=\"10.999219\"/>\r\n  </clipPath>\r\n  <clipPath id=\"p3ef71f89cb\">\r\n   <rect height=\"326.16\" width=\"16.308\" x=\"308.458125\" y=\"10.999219\"/>\r\n  </clipPath>\r\n </defs>\r\n</svg>\r\n",
            "image/png": "[encoded data removed]"
          },
          "metadata": {
            "needs_background": "light"
          }
        }
      ]
    },
    {
      "cell_type": "markdown",
      "metadata": {
        "id": "doY4qnKKcaqY"
      },
      "source": [
        "## Vamos converter os dados para um formato de Matriz\n"
      ]
    },
    {
      "cell_type": "code",
      "metadata": {
        "id": "1h-Cvo-KbwCr"
      },
      "source": [
        "X = X.reshape(-1,1)\n",
        "y= y.reshape(-1,1)"
      ],
      "execution_count": 51,
      "outputs": []
    },
    {
      "cell_type": "markdown",
      "metadata": {
        "id": "jhP7kRkjdL-q"
      },
      "source": [
        "## escalonar os dados"
      ]
    },
    {
      "cell_type": "code",
      "metadata": {
        "id": "_9Na-6m_dO69"
      },
      "source": [
        "from sklearn.preprocessing import StandardScaler"
      ],
      "execution_count": 52,
      "outputs": []
    },
    {
      "cell_type": "code",
      "metadata": {
        "id": "hmbuvUCXdTKG"
      },
      "source": [
        "scale_x=StandardScaler()\n",
        "scale_y=StandardScaler()"
      ],
      "execution_count": 53,
      "outputs": []
    },
    {
      "cell_type": "code",
      "metadata": {
        "id": "elWrgKp2dXKX"
      },
      "source": [
        "x = scale_x.fit_transform(X)\n",
        "y = scale_y.fit_transform(y)"
      ],
      "execution_count": 54,
      "outputs": []
    },
    {
      "cell_type": "markdown",
      "metadata": {
        "id": "gwv9nc3DdkAg"
      },
      "source": [
        "## Treinando modelo"
      ]
    },
    {
      "cell_type": "code",
      "metadata": {
        "id": "4BMJ4KQCdm-B"
      },
      "source": [
        "from sklearn.neural_network import MLPRegressor\n",
        "from sklearn.model_selection import GridSearchCV\n"
      ],
      "execution_count": 55,
      "outputs": []
    },
    {
      "cell_type": "code",
      "metadata": {
        "id": "74hETsZvk1sJ"
      },
      "source": [
        "params=[\n",
        "        {\n",
        "            \"activation\":['identity', 'logistic', 'tanh', 'relu'],\n",
        "            'solver':['lbfgs', 'sgd', 'adam'],\n",
        "            'shuffle':[True,False],\n",
        "            'verbose':[True,False],\n",
        "        }\n",
        "]"
      ],
      "execution_count": 56,
      "outputs": []
    },
    {
      "cell_type": "code",
      "metadata": {
        "id": "hnim2Omadr3K"
      },
      "source": [
        "# model = MLPRegressor(\n",
        "#     hidden_layer_sizes=(4,4),\n",
        "#     activation='relu',\n",
        "#     solver='adam',\n",
        "#     max_iter=1000,\n",
        "#     verbose=False\n",
        "#     )\n",
        "model = GridSearchCV(\n",
        "      MLPRegressor(max_iter=2000),\n",
        "      params,\n",
        "      scoring='r2',\n",
        "\n",
        ")"
      ],
      "execution_count": 57,
      "outputs": []
    },
    {
      "cell_type": "code",
      "metadata": {
        "colab": {
          "base_uri": "https://localhost:8080/"
        },
        "id": "RTfPOhTqeEa9",
        "outputId": "ce9e9b39-a343-4276-976a-136ebcaf5130",
        "tags": [
          "outputPrepend"
        ]
      },
      "source": [
        "predi=model.fit(x,y)"
      ],
      "execution_count": 58,
      "outputs": [
        {
          "output_type": "stream",
          "name": "stderr",
          "text": [
            " = 0.01189410\n",
            "Iteration 214, loss = 0.01178897\n",
            "Iteration 215, loss = 0.01168603\n",
            "Iteration 216, loss = 0.01158422\n",
            "Iteration 217, loss = 0.01148383\n",
            "Iteration 218, loss = 0.01138493\n",
            "Iteration 219, loss = 0.01128792\n",
            "Iteration 220, loss = 0.01119232\n",
            "Iteration 221, loss = 0.01109797\n",
            "Iteration 222, loss = 0.01100496\n",
            "Iteration 223, loss = 0.01091326\n",
            "Iteration 224, loss = 0.01082282\n",
            "Iteration 225, loss = 0.01073361\n",
            "Iteration 226, loss = 0.01064589\n",
            "Iteration 227, loss = 0.01056006\n",
            "Iteration 228, loss = 0.01047551\n",
            "Training loss did not improve more than tol=0.000100 for 10 consecutive epochs. Stopping.\n",
            "Iteration 1, loss = 0.57481072\n",
            "Iteration 2, loss = 0.55762710\n",
            "Iteration 3, loss = 0.54073175\n",
            "Iteration 4, loss = 0.52418745\n",
            "Iteration 5, loss = 0.50795333\n",
            "Iteration 6, loss = 0.49199278\n",
            "Iteration 7, loss = 0.47627663\n",
            "Iteration 8, loss = 0.46085059\n",
            "Iteration 9, loss = 0.44570440\n",
            "Iteration 10, loss = 0.43084233\n",
            "Iteration 11, loss = 0.41631149\n",
            "Iteration 12, loss = 0.40210386\n",
            "Iteration 13, loss = 0.38817237\n",
            "Iteration 14, loss = 0.37456685\n",
            "Iteration 15, loss = 0.36125885\n",
            "Iteration 16, loss = 0.34821475\n",
            "Iteration 17, loss = 0.33545323\n",
            "Iteration 18, loss = 0.32297108\n",
            "Iteration 19, loss = 0.31077562\n",
            "Iteration 20, loss = 0.29889942\n",
            "Iteration 21, loss = 0.28732681\n",
            "Iteration 22, loss = 0.27605735\n",
            "Iteration 23, loss = 0.26506994\n",
            "Iteration 24, loss = 0.25436800\n",
            "Iteration 25, loss = 0.24397540\n",
            "Iteration 26, loss = 0.23386409\n",
            "Iteration 27, loss = 0.22405147\n",
            "Iteration 28, loss = 0.21452403\n",
            "Iteration 29, loss = 0.20527482\n",
            "Iteration 30, loss = 0.19630809\n",
            "Iteration 31, loss = 0.18763702\n",
            "Iteration 32, loss = 0.17924377\n",
            "Iteration 33, loss = 0.17111830\n",
            "Iteration 34, loss = 0.16327165\n",
            "Iteration 35, loss = 0.15568829\n",
            "Iteration 36, loss = 0.14837368\n",
            "Iteration 37, loss = 0.14132514\n",
            "Iteration 38, loss = 0.13454747\n",
            "Iteration 39, loss = 0.12803244\n",
            "Iteration 40, loss = 0.12177123\n",
            "Iteration 41, loss = 0.11575729\n",
            "Iteration 42, loss = 0.10998877\n",
            "Iteration 43, loss = 0.10446270\n",
            "Iteration 44, loss = 0.09917446\n",
            "Iteration 45, loss = 0.09412292\n",
            "Iteration 46, loss = 0.08929430\n",
            "Iteration 47, loss = 0.08468728\n",
            "Iteration 48, loss = 0.08029438\n",
            "Iteration 49, loss = 0.07610944\n",
            "Iteration 50, loss = 0.07213203\n",
            "Iteration 51, loss = 0.06835431\n",
            "Iteration 52, loss = 0.06476850\n",
            "Iteration 53, loss = 0.06137122\n",
            "Iteration 54, loss = 0.05814998\n",
            "Iteration 55, loss = 0.05510211\n",
            "Iteration 56, loss = 0.05222224\n",
            "Iteration 57, loss = 0.04950346\n",
            "Iteration 58, loss = 0.04694497\n",
            "Iteration 59, loss = 0.04454097\n",
            "Iteration 60, loss = 0.04228729\n",
            "Iteration 61, loss = 0.04017958\n",
            "Iteration 62, loss = 0.03820879\n",
            "Iteration 63, loss = 0.03636685\n",
            "Iteration 64, loss = 0.03465100\n",
            "Iteration 65, loss = 0.03305935\n",
            "Iteration 66, loss = 0.03158046\n",
            "Iteration 67, loss = 0.03020751\n",
            "Iteration 68, loss = 0.02893444\n",
            "Iteration 69, loss = 0.02775722\n",
            "Iteration 70, loss = 0.02667126\n",
            "Iteration 71, loss = 0.02567015\n",
            "Iteration 72, loss = 0.02474886\n",
            "Iteration 73, loss = 0.02390219\n",
            "Iteration 74, loss = 0.02312679\n",
            "Iteration 75, loss = 0.02241796\n",
            "Iteration 76, loss = 0.02176863\n",
            "Iteration 77, loss = 0.02117544\n",
            "Iteration 78, loss = 0.02063213\n",
            "Iteration 79, loss = 0.02013473\n",
            "Iteration 80, loss = 0.01967928\n",
            "Iteration 81, loss = 0.01926161\n",
            "Iteration 82, loss = 0.01887807\n",
            "Iteration 83, loss = 0.01852569\n",
            "Iteration 84, loss = 0.01820198\n",
            "Iteration 85, loss = 0.01790283\n",
            "Iteration 86, loss = 0.01762656\n",
            "Iteration 87, loss = 0.01737193\n",
            "Iteration 88, loss = 0.01713596\n",
            "Iteration 89, loss = 0.01691457\n",
            "Iteration 90, loss = 0.01670579\n",
            "Iteration 91, loss = 0.01650785\n",
            "Iteration 92, loss = 0.01631914\n",
            "Iteration 93, loss = 0.01613826\n",
            "Iteration 94, loss = 0.01596396\n",
            "Iteration 95, loss = 0.01579833\n",
            "Iteration 96, loss = 0.01563768\n",
            "Iteration 97, loss = 0.01548080\n",
            "Iteration 98, loss = 0.01532678\n",
            "Iteration 99, loss = 0.01517519\n",
            "Iteration 100, loss = 0.01502558\n",
            "Iteration 101, loss = 0.01487771\n",
            "Iteration 102, loss = 0.01473204\n",
            "Iteration 103, loss = 0.01458832\n",
            "Iteration 104, loss = 0.01444533\n",
            "Iteration 105, loss = 0.01430295\n",
            "Iteration 106, loss = 0.01416190\n",
            "Iteration 107, loss = 0.01402205\n",
            "Iteration 108, loss = 0.01388294\n",
            "Iteration 109, loss = 0.01374428\n",
            "Iteration 110, loss = 0.01360608\n",
            "Iteration 111, loss = 0.01346840\n",
            "Iteration 112, loss = 0.01333130\n",
            "Iteration 113, loss = 0.01319484\n",
            "Iteration 114, loss = 0.01305965\n",
            "Iteration 115, loss = 0.01292583\n",
            "Iteration 116, loss = 0.01279312\n",
            "Iteration 117, loss = 0.01266133\n",
            "Iteration 118, loss = 0.01253171\n",
            "Iteration 119, loss = 0.01240360\n",
            "Iteration 120, loss = 0.01227648\n",
            "Iteration 121, loss = 0.01215138\n",
            "Iteration 122, loss = 0.01202839\n",
            "Iteration 123, loss = 0.01190667\n",
            "Iteration 124, loss = 0.01178626\n",
            "Iteration 125, loss = 0.01166764\n",
            "Iteration 126, loss = 0.01155072\n",
            "Iteration 127, loss = 0.01143489\n",
            "Iteration 128, loss = 0.01132017\n",
            "Iteration 129, loss = 0.01120679\n",
            "Iteration 130, loss = 0.01109468\n",
            "Iteration 131, loss = 0.01098406\n",
            "Iteration 132, loss = 0.01087550\n",
            "Iteration 133, loss = 0.01076915\n",
            "Iteration 134, loss = 0.01066470\n",
            "Iteration 135, loss = 0.01056214\n",
            "Iteration 136, loss = 0.01046091\n",
            "Iteration 137, loss = 0.01036075\n",
            "Iteration 138, loss = 0.01026189\n",
            "Iteration 139, loss = 0.01016414\n",
            "Iteration 140, loss = 0.01006795\n",
            "Iteration 141, loss = 0.00997275\n",
            "Iteration 142, loss = 0.00987885\n",
            "Iteration 143, loss = 0.00978587\n",
            "Iteration 144, loss = 0.00969399\n",
            "Iteration 145, loss = 0.00960357\n",
            "Iteration 146, loss = 0.00951426\n",
            "Iteration 147, loss = 0.00942578\n",
            "Iteration 148, loss = 0.00933811\n",
            "Training loss did not improve more than tol=0.000100 for 10 consecutive epochs. Stopping.\n",
            "Iteration 1, loss = 0.80495117\n",
            "Iteration 2, loss = 0.78539294\n",
            "Iteration 3, loss = 0.76616551\n",
            "Iteration 4, loss = 0.74726468\n",
            "Iteration 5, loss = 0.72867173\n",
            "Iteration 6, loss = 0.71038825\n",
            "Iteration 7, loss = 0.69243137\n",
            "Iteration 8, loss = 0.67484894\n",
            "Iteration 9, loss = 0.65756407\n",
            "Iteration 10, loss = 0.64063961\n",
            "Iteration 11, loss = 0.62408710\n",
            "Iteration 12, loss = 0.60787867\n",
            "Iteration 13, loss = 0.59201658\n",
            "Iteration 14, loss = 0.57651812\n",
            "Iteration 15, loss = 0.56136662\n",
            "Iteration 16, loss = 0.54652678\n",
            "Iteration 17, loss = 0.53200761\n",
            "Iteration 18, loss = 0.51781896\n",
            "Iteration 19, loss = 0.50396004\n",
            "Iteration 20, loss = 0.49038178\n",
            "Iteration 21, loss = 0.47708871\n",
            "Iteration 22, loss = 0.46407945\n",
            "Iteration 23, loss = 0.45137780\n",
            "Iteration 24, loss = 0.43895815\n",
            "Iteration 25, loss = 0.42681258\n",
            "Iteration 26, loss = 0.41492464\n",
            "Iteration 27, loss = 0.40331694\n",
            "Iteration 28, loss = 0.39195247\n",
            "Iteration 29, loss = 0.38084072\n",
            "Iteration 30, loss = 0.36996930\n",
            "Iteration 31, loss = 0.35934150\n",
            "Iteration 32, loss = 0.34895869\n",
            "Iteration 33, loss = 0.33881302\n",
            "Iteration 34, loss = 0.32888996\n",
            "Iteration 35, loss = 0.31918432\n",
            "Iteration 36, loss = 0.30969772\n",
            "Iteration 37, loss = 0.30043529\n",
            "Iteration 38, loss = 0.29140633\n",
            "Iteration 39, loss = 0.28259758\n",
            "Iteration 40, loss = 0.27400399\n",
            "Iteration 41, loss = 0.26563473\n",
            "Iteration 42, loss = 0.25751242\n",
            "Iteration 43, loss = 0.24961764\n",
            "Iteration 44, loss = 0.24194769\n",
            "Iteration 45, loss = 0.23447034\n",
            "Iteration 46, loss = 0.22718388\n",
            "Iteration 47, loss = 0.22008686\n",
            "Iteration 48, loss = 0.21317696\n",
            "Iteration 49, loss = 0.20644758\n",
            "Iteration 50, loss = 0.19989697\n",
            "Iteration 51, loss = 0.19352326\n",
            "Iteration 52, loss = 0.18731878\n",
            "Iteration 53, loss = 0.18129150\n",
            "Iteration 54, loss = 0.17543304\n",
            "Iteration 55, loss = 0.16973461\n",
            "Iteration 56, loss = 0.16420056\n",
            "Iteration 57, loss = 0.15883102\n",
            "Iteration 58, loss = 0.15361331\n",
            "Iteration 59, loss = 0.14855077\n",
            "Iteration 60, loss = 0.14364269\n",
            "Iteration 61, loss = 0.13888546\n",
            "Iteration 62, loss = 0.13427071\n",
            "Iteration 63, loss = 0.12980292\n",
            "Iteration 64, loss = 0.12548692\n",
            "Iteration 65, loss = 0.12131459\n",
            "Iteration 66, loss = 0.11728248\n",
            "Iteration 67, loss = 0.11339366\n",
            "Iteration 68, loss = 0.10964104\n",
            "Iteration 69, loss = 0.10602055\n",
            "Iteration 70, loss = 0.10252896\n",
            "C:\\Users\\igor_\\AppData\\Local\\Programs\\Python\\Python38\\lib\\site-packages\\sklearn\\utils\\validation.py:63: DataConversionWarning: A column-vector y was passed when a 1d array was expected. Please change the shape of y to (n_samples, ), for example using ravel().\n",
            "  return f(*args, **kwargs)\n",
            "C:\\Users\\igor_\\AppData\\Local\\Programs\\Python\\Python38\\lib\\site-packages\\sklearn\\utils\\validation.py:63: DataConversionWarning: A column-vector y was passed when a 1d array was expected. Please change the shape of y to (n_samples, ), for example using ravel().\n",
            "  return f(*args, **kwargs)\n",
            "Iteration 71, loss = 0.09916481\n",
            "Iteration 72, loss = 0.09592639\n",
            "Iteration 73, loss = 0.09280896\n",
            "Iteration 74, loss = 0.08980927\n",
            "Iteration 75, loss = 0.08692329\n",
            "Iteration 76, loss = 0.08414896\n",
            "Iteration 77, loss = 0.08148501\n",
            "Iteration 78, loss = 0.07892979\n",
            "Iteration 79, loss = 0.07647775\n",
            "Iteration 80, loss = 0.07412123\n",
            "Iteration 81, loss = 0.07185858\n",
            "Iteration 82, loss = 0.06969050\n",
            "Iteration 83, loss = 0.06761337\n",
            "Iteration 84, loss = 0.06562419\n",
            "Iteration 85, loss = 0.06371972\n",
            "Iteration 86, loss = 0.06189724\n",
            "Iteration 87, loss = 0.06015343\n",
            "Iteration 88, loss = 0.05848524\n",
            "Iteration 89, loss = 0.05688747\n",
            "Iteration 90, loss = 0.05535811\n",
            "Iteration 91, loss = 0.05389508\n",
            "Iteration 92, loss = 0.05249828\n",
            "Iteration 93, loss = 0.05116600\n",
            "Iteration 94, loss = 0.04989153\n",
            "Iteration 95, loss = 0.04867261\n",
            "Iteration 96, loss = 0.04750652\n",
            "Iteration 97, loss = 0.04639030\n",
            "Iteration 98, loss = 0.04532104\n",
            "Iteration 99, loss = 0.04429610\n",
            "Iteration 100, loss = 0.04331301\n",
            "Iteration 101, loss = 0.04236978\n",
            "Iteration 102, loss = 0.04146430\n",
            "Iteration 103, loss = 0.04059403\n",
            "Iteration 104, loss = 0.03975666\n",
            "Iteration 105, loss = 0.03895019\n",
            "Iteration 106, loss = 0.03817267\n",
            "Iteration 107, loss = 0.03742835\n",
            "Iteration 108, loss = 0.03671131\n",
            "Iteration 109, loss = 0.03601769\n",
            "Iteration 110, loss = 0.03534558\n",
            "Iteration 111, loss = 0.03469397\n",
            "Iteration 112, loss = 0.03406148\n",
            "Iteration 113, loss = 0.03344683\n",
            "Iteration 114, loss = 0.03284885\n",
            "Iteration 115, loss = 0.03226646\n",
            "Iteration 116, loss = 0.03169864\n",
            "Iteration 117, loss = 0.03114448\n",
            "Iteration 118, loss = 0.03060313\n",
            "Iteration 119, loss = 0.03007384\n",
            "Iteration 120, loss = 0.02955591\n",
            "Iteration 121, loss = 0.02904868\n",
            "Iteration 122, loss = 0.02855145\n",
            "Iteration 123, loss = 0.02806344\n",
            "Iteration 124, loss = 0.02758383\n",
            "Iteration 125, loss = 0.02711248\n",
            "Iteration 126, loss = 0.02665129\n",
            "Iteration 127, loss = 0.02620034\n",
            "Iteration 128, loss = 0.02575677\n",
            "Iteration 129, loss = 0.02532065\n",
            "Iteration 130, loss = 0.02489187\n",
            "Iteration 131, loss = 0.02447073\n",
            "Iteration 132, loss = 0.02405630\n",
            "Iteration 133, loss = 0.02364835\n",
            "Iteration 134, loss = 0.02324802\n",
            "Iteration 135, loss = 0.02285510\n",
            "Iteration 136, loss = 0.02246824\n",
            "Iteration 137, loss = 0.02208778\n",
            "Iteration 138, loss = 0.02171387\n",
            "Iteration 139, loss = 0.02134535\n",
            "Iteration 140, loss = 0.02098200\n",
            "Iteration 141, loss = 0.02062420\n",
            "Iteration 142, loss = 0.02027245\n",
            "Iteration 143, loss = 0.01992769\n",
            "Iteration 144, loss = 0.01958875\n",
            "Iteration 145, loss = 0.01925621\n",
            "Iteration 146, loss = 0.01892908\n",
            "Iteration 147, loss = 0.01860699\n",
            "Iteration 148, loss = 0.01829061\n",
            "Iteration 149, loss = 0.01797978\n",
            "Iteration 150, loss = 0.01767377\n",
            "Iteration 151, loss = 0.01737246\n",
            "Iteration 152, loss = 0.01707597\n",
            "Iteration 153, loss = 0.01678370\n",
            "Iteration 154, loss = 0.01649565\n",
            "Iteration 155, loss = 0.01621184\n",
            "Iteration 156, loss = 0.01593164\n",
            "Iteration 157, loss = 0.01565550\n",
            "Iteration 158, loss = 0.01538353\n",
            "Iteration 159, loss = 0.01511658\n",
            "Iteration 160, loss = 0.01485444\n",
            "Iteration 161, loss = 0.01459727\n",
            "Iteration 162, loss = 0.01434492\n",
            "Iteration 163, loss = 0.01409677\n",
            "Iteration 164, loss = 0.01385265\n",
            "Iteration 165, loss = 0.01361249\n",
            "Iteration 166, loss = 0.01337627\n",
            "Iteration 167, loss = 0.01314389\n",
            "Iteration 168, loss = 0.01291529\n",
            "Iteration 169, loss = 0.01269104\n",
            "Iteration 170, loss = 0.01247062\n",
            "Iteration 171, loss = 0.01225404\n",
            "Iteration 172, loss = 0.01204108\n",
            "Iteration 173, loss = 0.01183167\n",
            "Iteration 174, loss = 0.01162575\n",
            "Iteration 175, loss = 0.01142329\n",
            "Iteration 176, loss = 0.01122422\n",
            "Iteration 177, loss = 0.01102849\n",
            "Iteration 178, loss = 0.01083548\n",
            "Iteration 179, loss = 0.01064526\n",
            "Iteration 180, loss = 0.01045816\n",
            "Iteration 181, loss = 0.01027415\n",
            "Iteration 182, loss = 0.01009320\n",
            "Iteration 183, loss = 0.00991527\n",
            "Iteration 184, loss = 0.00974086\n",
            "Iteration 185, loss = 0.00956953\n",
            "Iteration 186, loss = 0.00940115\n",
            "Iteration 187, loss = 0.00923632\n",
            "Iteration 188, loss = 0.00907464\n",
            "Iteration 189, loss = 0.00891584\n",
            "Iteration 190, loss = 0.00875988\n",
            "Iteration 191, loss = 0.00860730\n",
            "Iteration 192, loss = 0.00845751\n",
            "Iteration 193, loss = 0.00831064\n",
            "Iteration 194, loss = 0.00816687\n",
            "Iteration 195, loss = 0.00802573\n",
            "Iteration 196, loss = 0.00788715\n",
            "Iteration 197, loss = 0.00775111\n",
            "Iteration 198, loss = 0.00761765\n",
            "Iteration 199, loss = 0.00748742\n",
            "Iteration 200, loss = 0.00735953\n",
            "Iteration 201, loss = 0.00723402\n",
            "Iteration 202, loss = 0.00711082\n",
            "Iteration 203, loss = 0.00698987\n",
            "Iteration 204, loss = 0.00687052\n",
            "Iteration 205, loss = 0.00675331\n",
            "Iteration 206, loss = 0.00663837\n",
            "Iteration 207, loss = 0.00652610\n",
            "Iteration 208, loss = 0.00641594\n",
            "Iteration 209, loss = 0.00630816\n",
            "Iteration 210, loss = 0.00620239\n",
            "Iteration 211, loss = 0.00609860\n",
            "Iteration 212, loss = 0.00599675\n",
            "Iteration 213, loss = 0.00589681\n",
            "Iteration 214, loss = 0.00579888\n",
            "Iteration 215, loss = 0.00570328\n",
            "Iteration 216, loss = 0.00560969\n",
            "Iteration 217, loss = 0.00551805\n",
            "Iteration 218, loss = 0.00542818\n",
            "Iteration 219, loss = 0.00534021\n",
            "Iteration 220, loss = 0.00525391\n",
            "Iteration 221, loss = 0.00516926\n",
            "Iteration 222, loss = 0.00508621\n",
            "Iteration 223, loss = 0.00500475\n",
            "Training loss did not improve more than tol=0.000100 for 10 consecutive epochs. Stopping.\n",
            "Iteration 1, loss = 0.20580683\n",
            "Iteration 2, loss = 0.19585110\n",
            "Iteration 3, loss = 0.18628049\n",
            "Iteration 4, loss = 0.17701634\n",
            "Iteration 5, loss = 0.16802054\n",
            "Iteration 6, loss = 0.15930791\n",
            "Iteration 7, loss = 0.15088077\n",
            "Iteration 8, loss = 0.14276594\n",
            "Iteration 9, loss = 0.13494692\n",
            "Iteration 10, loss = 0.12743390\n",
            "Iteration 11, loss = 0.12022409\n",
            "Iteration 12, loss = 0.11331921\n",
            "Iteration 13, loss = 0.10673137\n",
            "Iteration 14, loss = 0.10047351\n",
            "Iteration 15, loss = 0.09454920\n",
            "Iteration 16, loss = 0.08895884\n",
            "Iteration 17, loss = 0.08369918\n",
            "Iteration 18, loss = 0.07876058\n",
            "Iteration 19, loss = 0.07414836\n",
            "Iteration 20, loss = 0.06985207\n",
            "Iteration 21, loss = 0.06585692\n",
            "Iteration 22, loss = 0.06216028\n",
            "Iteration 23, loss = 0.05875223\n",
            "Iteration 24, loss = 0.05563803\n",
            "Iteration 25, loss = 0.05279293\n",
            "Iteration 26, loss = 0.05020523\n",
            "Iteration 27, loss = 0.04786826\n",
            "Iteration 28, loss = 0.04575430\n",
            "Iteration 29, loss = 0.04384652\n",
            "Iteration 30, loss = 0.04213089\n",
            "Iteration 31, loss = 0.04058915\n",
            "Iteration 32, loss = 0.03920391\n",
            "Iteration 33, loss = 0.03795891\n",
            "Iteration 34, loss = 0.03683774\n",
            "Iteration 35, loss = 0.03582635\n",
            "Iteration 36, loss = 0.03490878\n",
            "Iteration 37, loss = 0.03407002\n",
            "Iteration 38, loss = 0.03330057\n",
            "Iteration 39, loss = 0.03258857\n",
            "Iteration 40, loss = 0.03192259\n",
            "Iteration 41, loss = 0.03129604\n",
            "Iteration 42, loss = 0.03070117\n",
            "Iteration 43, loss = 0.03013140\n",
            "Iteration 44, loss = 0.02958648\n",
            "Iteration 45, loss = 0.02905906\n",
            "Iteration 46, loss = 0.02854653\n",
            "Iteration 47, loss = 0.02804647\n",
            "Iteration 48, loss = 0.02755760\n",
            "C:\\Users\\igor_\\AppData\\Local\\Programs\\Python\\Python38\\lib\\site-packages\\sklearn\\utils\\validation.py:63: DataConversionWarning: A column-vector y was passed when a 1d array was expected. Please change the shape of y to (n_samples, ), for example using ravel().\n",
            "  return f(*args, **kwargs)\n",
            "C:\\Users\\igor_\\AppData\\Local\\Programs\\Python\\Python38\\lib\\site-packages\\sklearn\\utils\\validation.py:63: DataConversionWarning: A column-vector y was passed when a 1d array was expected. Please change the shape of y to (n_samples, ), for example using ravel().\n",
            "  return f(*args, **kwargs)\n",
            "C:\\Users\\igor_\\AppData\\Local\\Programs\\Python\\Python38\\lib\\site-packages\\sklearn\\utils\\validation.py:63: DataConversionWarning: A column-vector y was passed when a 1d array was expected. Please change the shape of y to (n_samples, ), for example using ravel().\n",
            "  return f(*args, **kwargs)\n",
            "Iteration 49, loss = 0.02708037\n",
            "Iteration 50, loss = 0.02661530\n",
            "Iteration 51, loss = 0.02616146\n",
            "Iteration 52, loss = 0.02571945\n",
            "Iteration 53, loss = 0.02528977\n",
            "Iteration 54, loss = 0.02487337\n",
            "Iteration 55, loss = 0.02446848\n",
            "Iteration 56, loss = 0.02407447\n",
            "Iteration 57, loss = 0.02369051\n",
            "Iteration 58, loss = 0.02331588\n",
            "Iteration 59, loss = 0.02295110\n",
            "Iteration 60, loss = 0.02259558\n",
            "Iteration 61, loss = 0.02225254\n",
            "Iteration 62, loss = 0.02191963\n",
            "Iteration 63, loss = 0.02159368\n",
            "Iteration 64, loss = 0.02127557\n",
            "Iteration 65, loss = 0.02096254\n",
            "Iteration 66, loss = 0.02065522\n",
            "Iteration 67, loss = 0.02035268\n",
            "Iteration 68, loss = 0.02005517\n",
            "Iteration 69, loss = 0.01976833\n",
            "Iteration 70, loss = 0.01948540\n",
            "Iteration 71, loss = 0.01920483\n",
            "Iteration 72, loss = 0.01892706\n",
            "Iteration 73, loss = 0.01865279\n",
            "Iteration 74, loss = 0.01838090\n",
            "Iteration 75, loss = 0.01811250\n",
            "Iteration 76, loss = 0.01784950\n",
            "Iteration 77, loss = 0.01759161\n",
            "Iteration 78, loss = 0.01733873\n",
            "Iteration 79, loss = 0.01708988\n",
            "Iteration 80, loss = 0.01684566\n",
            "Iteration 81, loss = 0.01660605\n",
            "Iteration 82, loss = 0.01637029\n",
            "Iteration 83, loss = 0.01613837\n",
            "Iteration 84, loss = 0.01591030\n",
            "Iteration 85, loss = 0.01568663\n",
            "Iteration 86, loss = 0.01546734\n",
            "Iteration 87, loss = 0.01525313\n",
            "Iteration 88, loss = 0.01504574\n",
            "Iteration 89, loss = 0.01484378\n",
            "Iteration 90, loss = 0.01464526\n",
            "Iteration 91, loss = 0.01445092\n",
            "Iteration 92, loss = 0.01426085\n",
            "Iteration 93, loss = 0.01407397\n",
            "Iteration 94, loss = 0.01389023\n",
            "Iteration 95, loss = 0.01371034\n",
            "Iteration 96, loss = 0.01353324\n",
            "Iteration 97, loss = 0.01335837\n",
            "Iteration 98, loss = 0.01318633\n",
            "Iteration 99, loss = 0.01301728\n",
            "Iteration 100, loss = 0.01285151\n",
            "Iteration 101, loss = 0.01268827\n",
            "Iteration 102, loss = 0.01252800\n",
            "Iteration 103, loss = 0.01237059\n",
            "Iteration 104, loss = 0.01221603\n",
            "Iteration 105, loss = 0.01206408\n",
            "Iteration 106, loss = 0.01191439\n",
            "Iteration 107, loss = 0.01176706\n",
            "Iteration 108, loss = 0.01162211\n",
            "Iteration 109, loss = 0.01147957\n",
            "Iteration 110, loss = 0.01133933\n",
            "Iteration 111, loss = 0.01120145\n",
            "Iteration 112, loss = 0.01106614\n",
            "Iteration 113, loss = 0.01093314\n",
            "Iteration 114, loss = 0.01080277\n",
            "Iteration 115, loss = 0.01067456\n",
            "Iteration 116, loss = 0.01054824\n",
            "Iteration 117, loss = 0.01042411\n",
            "Iteration 118, loss = 0.01030240\n",
            "Iteration 119, loss = 0.01018302\n",
            "Iteration 120, loss = 0.01006570\n",
            "Iteration 121, loss = 0.00995036\n",
            "Iteration 122, loss = 0.00983697\n",
            "Iteration 123, loss = 0.00972514\n",
            "Iteration 124, loss = 0.00961471\n",
            "Iteration 125, loss = 0.00950605\n",
            "Iteration 126, loss = 0.00939912\n",
            "Iteration 127, loss = 0.00929401\n",
            "Iteration 128, loss = 0.00919075\n",
            "Iteration 129, loss = 0.00908918\n",
            "Iteration 130, loss = 0.00898935\n",
            "Iteration 131, loss = 0.00889131\n",
            "Iteration 132, loss = 0.00879532\n",
            "Iteration 133, loss = 0.00870109\n",
            "Iteration 134, loss = 0.00860857\n",
            "Iteration 135, loss = 0.00851774\n",
            "Iteration 136, loss = 0.00842860\n",
            "Iteration 137, loss = 0.00834100\n",
            "Iteration 138, loss = 0.00825491\n",
            "Iteration 139, loss = 0.00817030\n",
            "Iteration 140, loss = 0.00808714\n",
            "Training loss did not improve more than tol=0.000100 for 10 consecutive epochs. Stopping.\n",
            "C:\\Users\\igor_\\AppData\\Local\\Programs\\Python\\Python38\\lib\\site-packages\\sklearn\\utils\\validation.py:63: DataConversionWarning: A column-vector y was passed when a 1d array was expected. Please change the shape of y to (n_samples, ), for example using ravel().\n",
            "  return f(*args, **kwargs)\n",
            "C:\\Users\\igor_\\AppData\\Local\\Programs\\Python\\Python38\\lib\\site-packages\\sklearn\\utils\\validation.py:63: DataConversionWarning: A column-vector y was passed when a 1d array was expected. Please change the shape of y to (n_samples, ), for example using ravel().\n",
            "  return f(*args, **kwargs)\n",
            "C:\\Users\\igor_\\AppData\\Local\\Programs\\Python\\Python38\\lib\\site-packages\\sklearn\\utils\\validation.py:63: DataConversionWarning: A column-vector y was passed when a 1d array was expected. Please change the shape of y to (n_samples, ), for example using ravel().\n",
            "  return f(*args, **kwargs)\n",
            "C:\\Users\\igor_\\AppData\\Local\\Programs\\Python\\Python38\\lib\\site-packages\\sklearn\\utils\\validation.py:63: DataConversionWarning: A column-vector y was passed when a 1d array was expected. Please change the shape of y to (n_samples, ), for example using ravel().\n",
            "  return f(*args, **kwargs)\n"
          ]
        }
      ]
    },
    {
      "cell_type": "code",
      "metadata": {
        "colab": {
          "base_uri": "https://localhost:8080/"
        },
        "id": "qHnmOQbvnBV8",
        "outputId": "6feb3eca-fb3c-4d06-e426-f61e18a1531f"
      },
      "source": [
        "print(predi.score(x,y))\n",
        "print(model.best_params_)"
      ],
      "execution_count": 59,
      "outputs": [
        {
          "output_type": "stream",
          "name": "stdout",
          "text": [
            "0.9848603089943012\n{'activation': 'relu', 'shuffle': False, 'solver': 'adam', 'verbose': False}\n"
          ]
        }
      ]
    },
    {
      "cell_type": "markdown",
      "metadata": {
        "id": "qZyTSzq6emki"
      },
      "source": [
        "## plotar a reta do modelo"
      ]
    },
    {
      "cell_type": "code",
      "metadata": {
        "colab": {
          "base_uri": "https://localhost:8080/",
          "height": 350
        },
        "id": "6gmFdwYneouY",
        "outputId": "769f57c1-b18b-4453-9700-d40a80b5c92e"
      },
      "source": [
        "plt.figure( figsize=(10,5))\n",
        "\n",
        "plt.scatter(x,y)\n",
        "plt.plot(\n",
        "    x ,\n",
        "    predi.predict(x),\n",
        "    color='red'\n",
        "    )\n",
        "\n",
        "plt.title('Analisando a Reta')\n",
        "plt.xlabel('Eixo x')\n",
        "plt.ylabel('Eixo y')\n",
        "plt.show()"
      ],
      "execution_count": 60,
      "outputs": [
        {
          "output_type": "display_data",
          "data": {
            "text/plain": "<Figure size 720x360 with 1 Axes>",
            "image/svg+xml": "<?xml version=\"1.0\" encoding=\"utf-8\" standalone=\"no\"?>\r\n<!DOCTYPE svg PUBLIC \"-//W3C//DTD SVG 1.1//EN\"\r\n  \"http://www.w3.org/Graphics/SVG/1.1/DTD/svg11.dtd\">\r\n<svg height=\"331.674375pt\" version=\"1.1\" viewBox=\"0 0 617.360937 331.674375\" width=\"617.360937pt\" xmlns=\"http://www.w3.org/2000/svg\" xmlns:xlink=\"http://www.w3.org/1999/xlink\">\r\n <metadata>\r\n  <rdf:RDF xmlns:cc=\"http://creativecommons.org/ns#\" xmlns:dc=\"http://purl.org/dc/elements/1.1/\" xmlns:rdf=\"http://www.w3.org/1999/02/22-rdf-syntax-ns#\">\r\n   <cc:Work>\r\n    <dc:type rdf:resource=\"http://purl.org/dc/dcmitype/StillImage\"/>\r\n    <dc:date>2021-05-04T23:19:21.193817</dc:date>\r\n    <dc:format>image/svg+xml</dc:format>\r\n    <dc:creator>\r\n     <cc:Agent>\r\n      <dc:title>Matplotlib v3.4.1, https://matplotlib.org/</dc:title>\r\n     </cc:Agent>\r\n    </dc:creator>\r\n   </cc:Work>\r\n  </rdf:RDF>\r\n </metadata>\r\n <defs>\r\n  <style type=\"text/css\">*{stroke-linecap:butt;stroke-linejoin:round;}</style>\r\n </defs>\r\n <g id=\"figure_1\">\r\n  <g id=\"patch_1\">\r\n   <path d=\"M 0 331.674375 \r\nL 617.360937 331.674375 \r\nL 617.360937 0 \r\nL 0 0 \r\nz\r\n\" style=\"fill:none;\"/>\r\n  </g>\r\n  <g id=\"axes_1\">\r\n   <g id=\"patch_2\">\r\n    <path d=\"M 52.160938 294.118125 \r\nL 610.160938 294.118125 \r\nL 610.160938 22.318125 \r\nL 52.160938 22.318125 \r\nz\r\n\" style=\"fill:#ffffff;\"/>\r\n   </g>\r\n   <g id=\"PathCollection_1\">\r\n    <defs>\r\n     <path d=\"M 0 3 \r\nC 0.795609 3 1.55874 2.683901 2.12132 2.12132 \r\nC 2.683901 1.55874 3 0.795609 3 0 \r\nC 3 -0.795609 2.683901 -1.55874 2.12132 -2.12132 \r\nC 1.55874 -2.683901 0.795609 -3 0 -3 \r\nC -0.795609 -3 -1.55874 -2.683901 -2.12132 -2.12132 \r\nC -2.683901 -1.55874 -3 -0.795609 -3 0 \r\nC -3 0.795609 -2.683901 1.55874 -2.12132 2.12132 \r\nC -1.55874 2.683901 -0.795609 3 0 3 \r\nz\r\n\" id=\"mdaddba7008\" style=\"stroke:#1f77b4;\"/>\r\n    </defs>\r\n    <g clip-path=\"url(#pd7dbae94a5)\">\r\n     <use style=\"fill:#1f77b4;stroke:#1f77b4;\" x=\"77.524574\" xlink:href=\"#mdaddba7008\" y=\"273.781296\"/>\r\n     <use style=\"fill:#1f77b4;stroke:#1f77b4;\" x=\"104.223138\" xlink:href=\"#mdaddba7008\" y=\"270.460343\"/>\r\n     <use style=\"fill:#1f77b4;stroke:#1f77b4;\" x=\"130.921703\" xlink:href=\"#mdaddba7008\" y=\"267.13939\"/>\r\n     <use style=\"fill:#1f77b4;stroke:#1f77b4;\" x=\"157.620268\" xlink:href=\"#mdaddba7008\" y=\"263.818437\"/>\r\n     <use style=\"fill:#1f77b4;stroke:#1f77b4;\" x=\"184.318832\" xlink:href=\"#mdaddba7008\" y=\"260.497484\"/>\r\n     <use style=\"fill:#1f77b4;stroke:#1f77b4;\" x=\"211.017397\" xlink:href=\"#mdaddba7008\" y=\"257.176531\"/>\r\n     <use style=\"fill:#1f77b4;stroke:#1f77b4;\" x=\"237.715961\" xlink:href=\"#mdaddba7008\" y=\"253.855577\"/>\r\n     <use style=\"fill:#1f77b4;stroke:#1f77b4;\" x=\"264.414526\" xlink:href=\"#mdaddba7008\" y=\"250.534624\"/>\r\n     <use style=\"fill:#1f77b4;stroke:#1f77b4;\" x=\"291.113091\" xlink:href=\"#mdaddba7008\" y=\"240.571765\"/>\r\n     <use style=\"fill:#1f77b4;stroke:#1f77b4;\" x=\"317.811655\" xlink:href=\"#mdaddba7008\" y=\"233.929859\"/>\r\n     <use style=\"fill:#1f77b4;stroke:#1f77b4;\" x=\"344.51022\" xlink:href=\"#mdaddba7008\" y=\"223.966999\"/>\r\n     <use style=\"fill:#1f77b4;stroke:#1f77b4;\" x=\"371.208784\" xlink:href=\"#mdaddba7008\" y=\"214.00414\"/>\r\n     <use style=\"fill:#1f77b4;stroke:#1f77b4;\" x=\"397.907349\" xlink:href=\"#mdaddba7008\" y=\"200.720327\"/>\r\n     <use style=\"fill:#1f77b4;stroke:#1f77b4;\" x=\"424.605914\" xlink:href=\"#mdaddba7008\" y=\"184.115562\"/>\r\n     <use style=\"fill:#1f77b4;stroke:#1f77b4;\" x=\"451.304478\" xlink:href=\"#mdaddba7008\" y=\"150.90603\"/>\r\n     <use style=\"fill:#1f77b4;stroke:#1f77b4;\" x=\"478.003043\" xlink:href=\"#mdaddba7008\" y=\"104.412686\"/>\r\n     <use style=\"fill:#1f77b4;stroke:#1f77b4;\" x=\"504.701607\" xlink:href=\"#mdaddba7008\" y=\"84.486967\"/>\r\n     <use style=\"fill:#1f77b4;stroke:#1f77b4;\" x=\"531.400172\" xlink:href=\"#mdaddba7008\" y=\"67.882202\"/>\r\n     <use style=\"fill:#1f77b4;stroke:#1f77b4;\" x=\"558.098737\" xlink:href=\"#mdaddba7008\" y=\"51.277436\"/>\r\n     <use style=\"fill:#1f77b4;stroke:#1f77b4;\" x=\"584.797301\" xlink:href=\"#mdaddba7008\" y=\"34.67267\"/>\r\n    </g>\r\n   </g>\r\n   <g id=\"matplotlib.axis_1\">\r\n    <g id=\"xtick_1\">\r\n     <g id=\"line2d_1\">\r\n      <defs>\r\n       <path d=\"M 0 0 \r\nL 0 3.5 \r\n\" id=\"m22d8b0e01e\" style=\"stroke:#000000;stroke-width:0.8;\"/>\r\n      </defs>\r\n      <g>\r\n       <use style=\"stroke:#000000;stroke-width:0.8;\" x=\"100.233787\" xlink:href=\"#m22d8b0e01e\" y=\"294.118125\"/>\r\n      </g>\r\n     </g>\r\n     <g id=\"text_1\">\r\n      <!-- −1.5 -->\r\n      <g transform=\"translate(88.092381 308.716563)scale(0.1 -0.1)\">\r\n       <defs>\r\n        <path d=\"M 678 2272 \r\nL 4684 2272 \r\nL 4684 1741 \r\nL 678 1741 \r\nL 678 2272 \r\nz\r\n\" id=\"DejaVuSans-2212\" transform=\"scale(0.015625)\"/>\r\n        <path d=\"M 794 531 \r\nL 1825 531 \r\nL 1825 4091 \r\nL 703 3866 \r\nL 703 4441 \r\nL 1819 4666 \r\nL 2450 4666 \r\nL 2450 531 \r\nL 3481 531 \r\nL 3481 0 \r\nL 794 0 \r\nL 794 531 \r\nz\r\n\" id=\"DejaVuSans-31\" transform=\"scale(0.015625)\"/>\r\n        <path d=\"M 684 794 \r\nL 1344 794 \r\nL 1344 0 \r\nL 684 0 \r\nL 684 794 \r\nz\r\n\" id=\"DejaVuSans-2e\" transform=\"scale(0.015625)\"/>\r\n        <path d=\"M 691 4666 \r\nL 3169 4666 \r\nL 3169 4134 \r\nL 1269 4134 \r\nL 1269 2991 \r\nQ 1406 3038 1543 3061 \r\nQ 1681 3084 1819 3084 \r\nQ 2600 3084 3056 2656 \r\nQ 3513 2228 3513 1497 \r\nQ 3513 744 3044 326 \r\nQ 2575 -91 1722 -91 \r\nQ 1428 -91 1123 -41 \r\nQ 819 9 494 109 \r\nL 494 744 \r\nQ 775 591 1075 516 \r\nQ 1375 441 1709 441 \r\nQ 2250 441 2565 725 \r\nQ 2881 1009 2881 1497 \r\nQ 2881 1984 2565 2268 \r\nQ 2250 2553 1709 2553 \r\nQ 1456 2553 1204 2497 \r\nQ 953 2441 691 2322 \r\nL 691 4666 \r\nz\r\n\" id=\"DejaVuSans-35\" transform=\"scale(0.015625)\"/>\r\n       </defs>\r\n       <use xlink:href=\"#DejaVuSans-2212\"/>\r\n       <use x=\"83.789062\" xlink:href=\"#DejaVuSans-31\"/>\r\n       <use x=\"147.412109\" xlink:href=\"#DejaVuSans-2e\"/>\r\n       <use x=\"179.199219\" xlink:href=\"#DejaVuSans-35\"/>\r\n      </g>\r\n     </g>\r\n    </g>\r\n    <g id=\"xtick_2\">\r\n     <g id=\"line2d_2\">\r\n      <g>\r\n       <use style=\"stroke:#000000;stroke-width:0.8;\" x=\"177.209504\" xlink:href=\"#m22d8b0e01e\" y=\"294.118125\"/>\r\n      </g>\r\n     </g>\r\n     <g id=\"text_2\">\r\n      <!-- −1.0 -->\r\n      <g transform=\"translate(165.068098 308.716563)scale(0.1 -0.1)\">\r\n       <defs>\r\n        <path d=\"M 2034 4250 \r\nQ 1547 4250 1301 3770 \r\nQ 1056 3291 1056 2328 \r\nQ 1056 1369 1301 889 \r\nQ 1547 409 2034 409 \r\nQ 2525 409 2770 889 \r\nQ 3016 1369 3016 2328 \r\nQ 3016 3291 2770 3770 \r\nQ 2525 4250 2034 4250 \r\nz\r\nM 2034 4750 \r\nQ 2819 4750 3233 4129 \r\nQ 3647 3509 3647 2328 \r\nQ 3647 1150 3233 529 \r\nQ 2819 -91 2034 -91 \r\nQ 1250 -91 836 529 \r\nQ 422 1150 422 2328 \r\nQ 422 3509 836 4129 \r\nQ 1250 4750 2034 4750 \r\nz\r\n\" id=\"DejaVuSans-30\" transform=\"scale(0.015625)\"/>\r\n       </defs>\r\n       <use xlink:href=\"#DejaVuSans-2212\"/>\r\n       <use x=\"83.789062\" xlink:href=\"#DejaVuSans-31\"/>\r\n       <use x=\"147.412109\" xlink:href=\"#DejaVuSans-2e\"/>\r\n       <use x=\"179.199219\" xlink:href=\"#DejaVuSans-30\"/>\r\n      </g>\r\n     </g>\r\n    </g>\r\n    <g id=\"xtick_3\">\r\n     <g id=\"line2d_3\">\r\n      <g>\r\n       <use style=\"stroke:#000000;stroke-width:0.8;\" x=\"254.185221\" xlink:href=\"#m22d8b0e01e\" y=\"294.118125\"/>\r\n      </g>\r\n     </g>\r\n     <g id=\"text_3\">\r\n      <!-- −0.5 -->\r\n      <g transform=\"translate(242.043814 308.716563)scale(0.1 -0.1)\">\r\n       <use xlink:href=\"#DejaVuSans-2212\"/>\r\n       <use x=\"83.789062\" xlink:href=\"#DejaVuSans-30\"/>\r\n       <use x=\"147.412109\" xlink:href=\"#DejaVuSans-2e\"/>\r\n       <use x=\"179.199219\" xlink:href=\"#DejaVuSans-35\"/>\r\n      </g>\r\n     </g>\r\n    </g>\r\n    <g id=\"xtick_4\">\r\n     <g id=\"line2d_4\">\r\n      <g>\r\n       <use style=\"stroke:#000000;stroke-width:0.8;\" x=\"331.160937\" xlink:href=\"#m22d8b0e01e\" y=\"294.118125\"/>\r\n      </g>\r\n     </g>\r\n     <g id=\"text_4\">\r\n      <!-- 0.0 -->\r\n      <g transform=\"translate(323.209375 308.716563)scale(0.1 -0.1)\">\r\n       <use xlink:href=\"#DejaVuSans-30\"/>\r\n       <use x=\"63.623047\" xlink:href=\"#DejaVuSans-2e\"/>\r\n       <use x=\"95.410156\" xlink:href=\"#DejaVuSans-30\"/>\r\n      </g>\r\n     </g>\r\n    </g>\r\n    <g id=\"xtick_5\">\r\n     <g id=\"line2d_5\">\r\n      <g>\r\n       <use style=\"stroke:#000000;stroke-width:0.8;\" x=\"408.136654\" xlink:href=\"#m22d8b0e01e\" y=\"294.118125\"/>\r\n      </g>\r\n     </g>\r\n     <g id=\"text_5\">\r\n      <!-- 0.5 -->\r\n      <g transform=\"translate(400.185092 308.716563)scale(0.1 -0.1)\">\r\n       <use xlink:href=\"#DejaVuSans-30\"/>\r\n       <use x=\"63.623047\" xlink:href=\"#DejaVuSans-2e\"/>\r\n       <use x=\"95.410156\" xlink:href=\"#DejaVuSans-35\"/>\r\n      </g>\r\n     </g>\r\n    </g>\r\n    <g id=\"xtick_6\">\r\n     <g id=\"line2d_6\">\r\n      <g>\r\n       <use style=\"stroke:#000000;stroke-width:0.8;\" x=\"485.112371\" xlink:href=\"#m22d8b0e01e\" y=\"294.118125\"/>\r\n      </g>\r\n     </g>\r\n     <g id=\"text_6\">\r\n      <!-- 1.0 -->\r\n      <g transform=\"translate(477.160809 308.716563)scale(0.1 -0.1)\">\r\n       <use xlink:href=\"#DejaVuSans-31\"/>\r\n       <use x=\"63.623047\" xlink:href=\"#DejaVuSans-2e\"/>\r\n       <use x=\"95.410156\" xlink:href=\"#DejaVuSans-30\"/>\r\n      </g>\r\n     </g>\r\n    </g>\r\n    <g id=\"xtick_7\">\r\n     <g id=\"line2d_7\">\r\n      <g>\r\n       <use style=\"stroke:#000000;stroke-width:0.8;\" x=\"562.088088\" xlink:href=\"#m22d8b0e01e\" y=\"294.118125\"/>\r\n      </g>\r\n     </g>\r\n     <g id=\"text_7\">\r\n      <!-- 1.5 -->\r\n      <g transform=\"translate(554.136526 308.716563)scale(0.1 -0.1)\">\r\n       <use xlink:href=\"#DejaVuSans-31\"/>\r\n       <use x=\"63.623047\" xlink:href=\"#DejaVuSans-2e\"/>\r\n       <use x=\"95.410156\" xlink:href=\"#DejaVuSans-35\"/>\r\n      </g>\r\n     </g>\r\n    </g>\r\n    <g id=\"text_8\">\r\n     <!-- Eixo x -->\r\n     <g transform=\"translate(316.201562 322.394687)scale(0.1 -0.1)\">\r\n      <defs>\r\n       <path d=\"M 628 4666 \r\nL 3578 4666 \r\nL 3578 4134 \r\nL 1259 4134 \r\nL 1259 2753 \r\nL 3481 2753 \r\nL 3481 2222 \r\nL 1259 2222 \r\nL 1259 531 \r\nL 3634 531 \r\nL 3634 0 \r\nL 628 0 \r\nL 628 4666 \r\nz\r\n\" id=\"DejaVuSans-45\" transform=\"scale(0.015625)\"/>\r\n       <path d=\"M 603 3500 \r\nL 1178 3500 \r\nL 1178 0 \r\nL 603 0 \r\nL 603 3500 \r\nz\r\nM 603 4863 \r\nL 1178 4863 \r\nL 1178 4134 \r\nL 603 4134 \r\nL 603 4863 \r\nz\r\n\" id=\"DejaVuSans-69\" transform=\"scale(0.015625)\"/>\r\n       <path d=\"M 3513 3500 \r\nL 2247 1797 \r\nL 3578 0 \r\nL 2900 0 \r\nL 1881 1375 \r\nL 863 0 \r\nL 184 0 \r\nL 1544 1831 \r\nL 300 3500 \r\nL 978 3500 \r\nL 1906 2253 \r\nL 2834 3500 \r\nL 3513 3500 \r\nz\r\n\" id=\"DejaVuSans-78\" transform=\"scale(0.015625)\"/>\r\n       <path d=\"M 1959 3097 \r\nQ 1497 3097 1228 2736 \r\nQ 959 2375 959 1747 \r\nQ 959 1119 1226 758 \r\nQ 1494 397 1959 397 \r\nQ 2419 397 2687 759 \r\nQ 2956 1122 2956 1747 \r\nQ 2956 2369 2687 2733 \r\nQ 2419 3097 1959 3097 \r\nz\r\nM 1959 3584 \r\nQ 2709 3584 3137 3096 \r\nQ 3566 2609 3566 1747 \r\nQ 3566 888 3137 398 \r\nQ 2709 -91 1959 -91 \r\nQ 1206 -91 779 398 \r\nQ 353 888 353 1747 \r\nQ 353 2609 779 3096 \r\nQ 1206 3584 1959 3584 \r\nz\r\n\" id=\"DejaVuSans-6f\" transform=\"scale(0.015625)\"/>\r\n       <path id=\"DejaVuSans-20\" transform=\"scale(0.015625)\"/>\r\n      </defs>\r\n      <use xlink:href=\"#DejaVuSans-45\"/>\r\n      <use x=\"63.183594\" xlink:href=\"#DejaVuSans-69\"/>\r\n      <use x=\"90.966797\" xlink:href=\"#DejaVuSans-78\"/>\r\n      <use x=\"147.021484\" xlink:href=\"#DejaVuSans-6f\"/>\r\n      <use x=\"208.203125\" xlink:href=\"#DejaVuSans-20\"/>\r\n      <use x=\"239.990234\" xlink:href=\"#DejaVuSans-78\"/>\r\n     </g>\r\n    </g>\r\n   </g>\r\n   <g id=\"matplotlib.axis_2\">\r\n    <g id=\"ytick_1\">\r\n     <g id=\"line2d_8\">\r\n      <defs>\r\n       <path d=\"M 0 0 \r\nL -3.5 0 \r\n\" id=\"ma2ff16e550\" style=\"stroke:#000000;stroke-width:0.8;\"/>\r\n      </defs>\r\n      <g>\r\n       <use style=\"stroke:#000000;stroke-width:0.8;\" x=\"52.160938\" xlink:href=\"#ma2ff16e550\" y=\"273.89793\"/>\r\n      </g>\r\n     </g>\r\n     <g id=\"text_9\">\r\n      <!-- −1.0 -->\r\n      <g transform=\"translate(20.878125 277.697149)scale(0.1 -0.1)\">\r\n       <use xlink:href=\"#DejaVuSans-2212\"/>\r\n       <use x=\"83.789062\" xlink:href=\"#DejaVuSans-31\"/>\r\n       <use x=\"147.412109\" xlink:href=\"#DejaVuSans-2e\"/>\r\n       <use x=\"179.199219\" xlink:href=\"#DejaVuSans-30\"/>\r\n      </g>\r\n     </g>\r\n    </g>\r\n    <g id=\"ytick_2\">\r\n     <g id=\"line2d_9\">\r\n      <g>\r\n       <use style=\"stroke:#000000;stroke-width:0.8;\" x=\"52.160938\" xlink:href=\"#ma2ff16e550\" y=\"234.154223\"/>\r\n      </g>\r\n     </g>\r\n     <g id=\"text_10\">\r\n      <!-- −0.5 -->\r\n      <g transform=\"translate(20.878125 237.953442)scale(0.1 -0.1)\">\r\n       <use xlink:href=\"#DejaVuSans-2212\"/>\r\n       <use x=\"83.789062\" xlink:href=\"#DejaVuSans-30\"/>\r\n       <use x=\"147.412109\" xlink:href=\"#DejaVuSans-2e\"/>\r\n       <use x=\"179.199219\" xlink:href=\"#DejaVuSans-35\"/>\r\n      </g>\r\n     </g>\r\n    </g>\r\n    <g id=\"ytick_3\">\r\n     <g id=\"line2d_10\">\r\n      <g>\r\n       <use style=\"stroke:#000000;stroke-width:0.8;\" x=\"52.160938\" xlink:href=\"#ma2ff16e550\" y=\"194.410516\"/>\r\n      </g>\r\n     </g>\r\n     <g id=\"text_11\">\r\n      <!-- 0.0 -->\r\n      <g transform=\"translate(29.257813 198.209735)scale(0.1 -0.1)\">\r\n       <use xlink:href=\"#DejaVuSans-30\"/>\r\n       <use x=\"63.623047\" xlink:href=\"#DejaVuSans-2e\"/>\r\n       <use x=\"95.410156\" xlink:href=\"#DejaVuSans-30\"/>\r\n      </g>\r\n     </g>\r\n    </g>\r\n    <g id=\"ytick_4\">\r\n     <g id=\"line2d_11\">\r\n      <g>\r\n       <use style=\"stroke:#000000;stroke-width:0.8;\" x=\"52.160938\" xlink:href=\"#ma2ff16e550\" y=\"154.666809\"/>\r\n      </g>\r\n     </g>\r\n     <g id=\"text_12\">\r\n      <!-- 0.5 -->\r\n      <g transform=\"translate(29.257813 158.466028)scale(0.1 -0.1)\">\r\n       <use xlink:href=\"#DejaVuSans-30\"/>\r\n       <use x=\"63.623047\" xlink:href=\"#DejaVuSans-2e\"/>\r\n       <use x=\"95.410156\" xlink:href=\"#DejaVuSans-35\"/>\r\n      </g>\r\n     </g>\r\n    </g>\r\n    <g id=\"ytick_5\">\r\n     <g id=\"line2d_12\">\r\n      <g>\r\n       <use style=\"stroke:#000000;stroke-width:0.8;\" x=\"52.160938\" xlink:href=\"#ma2ff16e550\" y=\"114.923102\"/>\r\n      </g>\r\n     </g>\r\n     <g id=\"text_13\">\r\n      <!-- 1.0 -->\r\n      <g transform=\"translate(29.257813 118.722321)scale(0.1 -0.1)\">\r\n       <use xlink:href=\"#DejaVuSans-31\"/>\r\n       <use x=\"63.623047\" xlink:href=\"#DejaVuSans-2e\"/>\r\n       <use x=\"95.410156\" xlink:href=\"#DejaVuSans-30\"/>\r\n      </g>\r\n     </g>\r\n    </g>\r\n    <g id=\"ytick_6\">\r\n     <g id=\"line2d_13\">\r\n      <g>\r\n       <use style=\"stroke:#000000;stroke-width:0.8;\" x=\"52.160938\" xlink:href=\"#ma2ff16e550\" y=\"75.179395\"/>\r\n      </g>\r\n     </g>\r\n     <g id=\"text_14\">\r\n      <!-- 1.5 -->\r\n      <g transform=\"translate(29.257813 78.978614)scale(0.1 -0.1)\">\r\n       <use xlink:href=\"#DejaVuSans-31\"/>\r\n       <use x=\"63.623047\" xlink:href=\"#DejaVuSans-2e\"/>\r\n       <use x=\"95.410156\" xlink:href=\"#DejaVuSans-35\"/>\r\n      </g>\r\n     </g>\r\n    </g>\r\n    <g id=\"ytick_7\">\r\n     <g id=\"line2d_14\">\r\n      <g>\r\n       <use style=\"stroke:#000000;stroke-width:0.8;\" x=\"52.160938\" xlink:href=\"#ma2ff16e550\" y=\"35.435688\"/>\r\n      </g>\r\n     </g>\r\n     <g id=\"text_15\">\r\n      <!-- 2.0 -->\r\n      <g transform=\"translate(29.257813 39.234907)scale(0.1 -0.1)\">\r\n       <defs>\r\n        <path d=\"M 1228 531 \r\nL 3431 531 \r\nL 3431 0 \r\nL 469 0 \r\nL 469 531 \r\nQ 828 903 1448 1529 \r\nQ 2069 2156 2228 2338 \r\nQ 2531 2678 2651 2914 \r\nQ 2772 3150 2772 3378 \r\nQ 2772 3750 2511 3984 \r\nQ 2250 4219 1831 4219 \r\nQ 1534 4219 1204 4116 \r\nQ 875 4013 500 3803 \r\nL 500 4441 \r\nQ 881 4594 1212 4672 \r\nQ 1544 4750 1819 4750 \r\nQ 2544 4750 2975 4387 \r\nQ 3406 4025 3406 3419 \r\nQ 3406 3131 3298 2873 \r\nQ 3191 2616 2906 2266 \r\nQ 2828 2175 2409 1742 \r\nQ 1991 1309 1228 531 \r\nz\r\n\" id=\"DejaVuSans-32\" transform=\"scale(0.015625)\"/>\r\n       </defs>\r\n       <use xlink:href=\"#DejaVuSans-32\"/>\r\n       <use x=\"63.623047\" xlink:href=\"#DejaVuSans-2e\"/>\r\n       <use x=\"95.410156\" xlink:href=\"#DejaVuSans-30\"/>\r\n      </g>\r\n     </g>\r\n    </g>\r\n    <g id=\"text_16\">\r\n     <!-- Eixo y -->\r\n     <g transform=\"translate(14.798438 173.1775)rotate(-90)scale(0.1 -0.1)\">\r\n      <defs>\r\n       <path d=\"M 2059 -325 \r\nQ 1816 -950 1584 -1140 \r\nQ 1353 -1331 966 -1331 \r\nL 506 -1331 \r\nL 506 -850 \r\nL 844 -850 \r\nQ 1081 -850 1212 -737 \r\nQ 1344 -625 1503 -206 \r\nL 1606 56 \r\nL 191 3500 \r\nL 800 3500 \r\nL 1894 763 \r\nL 2988 3500 \r\nL 3597 3500 \r\nL 2059 -325 \r\nz\r\n\" id=\"DejaVuSans-79\" transform=\"scale(0.015625)\"/>\r\n      </defs>\r\n      <use xlink:href=\"#DejaVuSans-45\"/>\r\n      <use x=\"63.183594\" xlink:href=\"#DejaVuSans-69\"/>\r\n      <use x=\"90.966797\" xlink:href=\"#DejaVuSans-78\"/>\r\n      <use x=\"147.021484\" xlink:href=\"#DejaVuSans-6f\"/>\r\n      <use x=\"208.203125\" xlink:href=\"#DejaVuSans-20\"/>\r\n      <use x=\"239.990234\" xlink:href=\"#DejaVuSans-79\"/>\r\n     </g>\r\n    </g>\r\n   </g>\r\n   <g id=\"line2d_15\">\r\n    <path clip-path=\"url(#pd7dbae94a5)\" d=\"M 77.524574 281.76358 \r\nL 104.223138 276.332992 \r\nL 130.921703 270.911547 \r\nL 157.620268 265.64379 \r\nL 184.318832 260.376034 \r\nL 211.017397 255.198263 \r\nL 237.715961 250.171005 \r\nL 264.414526 246.26939 \r\nL 291.113091 241.717528 \r\nL 317.811655 233.643147 \r\nL 344.51022 220.429867 \r\nL 371.208784 202.704167 \r\nL 397.907349 181.9188 \r\nL 424.605914 160.904037 \r\nL 451.304478 139.81691 \r\nL 478.003043 118.835782 \r\nL 504.701607 98.002921 \r\nL 531.400172 78.043048 \r\nL 558.098737 59.23992 \r\nL 584.797301 41.563028 \r\n\" style=\"fill:none;stroke:#ff0000;stroke-linecap:square;stroke-width:1.5;\"/>\r\n   </g>\r\n   <g id=\"patch_3\">\r\n    <path d=\"M 52.160938 294.118125 \r\nL 52.160938 22.318125 \r\n\" style=\"fill:none;stroke:#000000;stroke-linecap:square;stroke-linejoin:miter;stroke-width:0.8;\"/>\r\n   </g>\r\n   <g id=\"patch_4\">\r\n    <path d=\"M 610.160938 294.118125 \r\nL 610.160938 22.318125 \r\n\" style=\"fill:none;stroke:#000000;stroke-linecap:square;stroke-linejoin:miter;stroke-width:0.8;\"/>\r\n   </g>\r\n   <g id=\"patch_5\">\r\n    <path d=\"M 52.160937 294.118125 \r\nL 610.160938 294.118125 \r\n\" style=\"fill:none;stroke:#000000;stroke-linecap:square;stroke-linejoin:miter;stroke-width:0.8;\"/>\r\n   </g>\r\n   <g id=\"patch_6\">\r\n    <path d=\"M 52.160937 22.318125 \r\nL 610.160938 22.318125 \r\n\" style=\"fill:none;stroke:#000000;stroke-linecap:square;stroke-linejoin:miter;stroke-width:0.8;\"/>\r\n   </g>\r\n   <g id=\"text_17\">\r\n    <!-- Analisando a Reta -->\r\n    <g transform=\"translate(277.0475 16.318125)scale(0.12 -0.12)\">\r\n     <defs>\r\n      <path d=\"M 2188 4044 \r\nL 1331 1722 \r\nL 3047 1722 \r\nL 2188 4044 \r\nz\r\nM 1831 4666 \r\nL 2547 4666 \r\nL 4325 0 \r\nL 3669 0 \r\nL 3244 1197 \r\nL 1141 1197 \r\nL 716 0 \r\nL 50 0 \r\nL 1831 4666 \r\nz\r\n\" id=\"DejaVuSans-41\" transform=\"scale(0.015625)\"/>\r\n      <path d=\"M 3513 2113 \r\nL 3513 0 \r\nL 2938 0 \r\nL 2938 2094 \r\nQ 2938 2591 2744 2837 \r\nQ 2550 3084 2163 3084 \r\nQ 1697 3084 1428 2787 \r\nQ 1159 2491 1159 1978 \r\nL 1159 0 \r\nL 581 0 \r\nL 581 3500 \r\nL 1159 3500 \r\nL 1159 2956 \r\nQ 1366 3272 1645 3428 \r\nQ 1925 3584 2291 3584 \r\nQ 2894 3584 3203 3211 \r\nQ 3513 2838 3513 2113 \r\nz\r\n\" id=\"DejaVuSans-6e\" transform=\"scale(0.015625)\"/>\r\n      <path d=\"M 2194 1759 \r\nQ 1497 1759 1228 1600 \r\nQ 959 1441 959 1056 \r\nQ 959 750 1161 570 \r\nQ 1363 391 1709 391 \r\nQ 2188 391 2477 730 \r\nQ 2766 1069 2766 1631 \r\nL 2766 1759 \r\nL 2194 1759 \r\nz\r\nM 3341 1997 \r\nL 3341 0 \r\nL 2766 0 \r\nL 2766 531 \r\nQ 2569 213 2275 61 \r\nQ 1981 -91 1556 -91 \r\nQ 1019 -91 701 211 \r\nQ 384 513 384 1019 \r\nQ 384 1609 779 1909 \r\nQ 1175 2209 1959 2209 \r\nL 2766 2209 \r\nL 2766 2266 \r\nQ 2766 2663 2505 2880 \r\nQ 2244 3097 1772 3097 \r\nQ 1472 3097 1187 3025 \r\nQ 903 2953 641 2809 \r\nL 641 3341 \r\nQ 956 3463 1253 3523 \r\nQ 1550 3584 1831 3584 \r\nQ 2591 3584 2966 3190 \r\nQ 3341 2797 3341 1997 \r\nz\r\n\" id=\"DejaVuSans-61\" transform=\"scale(0.015625)\"/>\r\n      <path d=\"M 603 4863 \r\nL 1178 4863 \r\nL 1178 0 \r\nL 603 0 \r\nL 603 4863 \r\nz\r\n\" id=\"DejaVuSans-6c\" transform=\"scale(0.015625)\"/>\r\n      <path d=\"M 2834 3397 \r\nL 2834 2853 \r\nQ 2591 2978 2328 3040 \r\nQ 2066 3103 1784 3103 \r\nQ 1356 3103 1142 2972 \r\nQ 928 2841 928 2578 \r\nQ 928 2378 1081 2264 \r\nQ 1234 2150 1697 2047 \r\nL 1894 2003 \r\nQ 2506 1872 2764 1633 \r\nQ 3022 1394 3022 966 \r\nQ 3022 478 2636 193 \r\nQ 2250 -91 1575 -91 \r\nQ 1294 -91 989 -36 \r\nQ 684 19 347 128 \r\nL 347 722 \r\nQ 666 556 975 473 \r\nQ 1284 391 1588 391 \r\nQ 1994 391 2212 530 \r\nQ 2431 669 2431 922 \r\nQ 2431 1156 2273 1281 \r\nQ 2116 1406 1581 1522 \r\nL 1381 1569 \r\nQ 847 1681 609 1914 \r\nQ 372 2147 372 2553 \r\nQ 372 3047 722 3315 \r\nQ 1072 3584 1716 3584 \r\nQ 2034 3584 2315 3537 \r\nQ 2597 3491 2834 3397 \r\nz\r\n\" id=\"DejaVuSans-73\" transform=\"scale(0.015625)\"/>\r\n      <path d=\"M 2906 2969 \r\nL 2906 4863 \r\nL 3481 4863 \r\nL 3481 0 \r\nL 2906 0 \r\nL 2906 525 \r\nQ 2725 213 2448 61 \r\nQ 2172 -91 1784 -91 \r\nQ 1150 -91 751 415 \r\nQ 353 922 353 1747 \r\nQ 353 2572 751 3078 \r\nQ 1150 3584 1784 3584 \r\nQ 2172 3584 2448 3432 \r\nQ 2725 3281 2906 2969 \r\nz\r\nM 947 1747 \r\nQ 947 1113 1208 752 \r\nQ 1469 391 1925 391 \r\nQ 2381 391 2643 752 \r\nQ 2906 1113 2906 1747 \r\nQ 2906 2381 2643 2742 \r\nQ 2381 3103 1925 3103 \r\nQ 1469 3103 1208 2742 \r\nQ 947 2381 947 1747 \r\nz\r\n\" id=\"DejaVuSans-64\" transform=\"scale(0.015625)\"/>\r\n      <path d=\"M 2841 2188 \r\nQ 3044 2119 3236 1894 \r\nQ 3428 1669 3622 1275 \r\nL 4263 0 \r\nL 3584 0 \r\nL 2988 1197 \r\nQ 2756 1666 2539 1819 \r\nQ 2322 1972 1947 1972 \r\nL 1259 1972 \r\nL 1259 0 \r\nL 628 0 \r\nL 628 4666 \r\nL 2053 4666 \r\nQ 2853 4666 3247 4331 \r\nQ 3641 3997 3641 3322 \r\nQ 3641 2881 3436 2590 \r\nQ 3231 2300 2841 2188 \r\nz\r\nM 1259 4147 \r\nL 1259 2491 \r\nL 2053 2491 \r\nQ 2509 2491 2742 2702 \r\nQ 2975 2913 2975 3322 \r\nQ 2975 3731 2742 3939 \r\nQ 2509 4147 2053 4147 \r\nL 1259 4147 \r\nz\r\n\" id=\"DejaVuSans-52\" transform=\"scale(0.015625)\"/>\r\n      <path d=\"M 3597 1894 \r\nL 3597 1613 \r\nL 953 1613 \r\nQ 991 1019 1311 708 \r\nQ 1631 397 2203 397 \r\nQ 2534 397 2845 478 \r\nQ 3156 559 3463 722 \r\nL 3463 178 \r\nQ 3153 47 2828 -22 \r\nQ 2503 -91 2169 -91 \r\nQ 1331 -91 842 396 \r\nQ 353 884 353 1716 \r\nQ 353 2575 817 3079 \r\nQ 1281 3584 2069 3584 \r\nQ 2775 3584 3186 3129 \r\nQ 3597 2675 3597 1894 \r\nz\r\nM 3022 2063 \r\nQ 3016 2534 2758 2815 \r\nQ 2500 3097 2075 3097 \r\nQ 1594 3097 1305 2825 \r\nQ 1016 2553 972 2059 \r\nL 3022 2063 \r\nz\r\n\" id=\"DejaVuSans-65\" transform=\"scale(0.015625)\"/>\r\n      <path d=\"M 1172 4494 \r\nL 1172 3500 \r\nL 2356 3500 \r\nL 2356 3053 \r\nL 1172 3053 \r\nL 1172 1153 \r\nQ 1172 725 1289 603 \r\nQ 1406 481 1766 481 \r\nL 2356 481 \r\nL 2356 0 \r\nL 1766 0 \r\nQ 1100 0 847 248 \r\nQ 594 497 594 1153 \r\nL 594 3053 \r\nL 172 3053 \r\nL 172 3500 \r\nL 594 3500 \r\nL 594 4494 \r\nL 1172 4494 \r\nz\r\n\" id=\"DejaVuSans-74\" transform=\"scale(0.015625)\"/>\r\n     </defs>\r\n     <use xlink:href=\"#DejaVuSans-41\"/>\r\n     <use x=\"68.408203\" xlink:href=\"#DejaVuSans-6e\"/>\r\n     <use x=\"131.787109\" xlink:href=\"#DejaVuSans-61\"/>\r\n     <use x=\"193.066406\" xlink:href=\"#DejaVuSans-6c\"/>\r\n     <use x=\"220.849609\" xlink:href=\"#DejaVuSans-69\"/>\r\n     <use x=\"248.632812\" xlink:href=\"#DejaVuSans-73\"/>\r\n     <use x=\"300.732422\" xlink:href=\"#DejaVuSans-61\"/>\r\n     <use x=\"362.011719\" xlink:href=\"#DejaVuSans-6e\"/>\r\n     <use x=\"425.390625\" xlink:href=\"#DejaVuSans-64\"/>\r\n     <use x=\"488.867188\" xlink:href=\"#DejaVuSans-6f\"/>\r\n     <use x=\"550.048828\" xlink:href=\"#DejaVuSans-20\"/>\r\n     <use x=\"581.835938\" xlink:href=\"#DejaVuSans-61\"/>\r\n     <use x=\"643.115234\" xlink:href=\"#DejaVuSans-20\"/>\r\n     <use x=\"674.902344\" xlink:href=\"#DejaVuSans-52\"/>\r\n     <use x=\"739.884766\" xlink:href=\"#DejaVuSans-65\"/>\r\n     <use x=\"801.408203\" xlink:href=\"#DejaVuSans-74\"/>\r\n     <use x=\"840.617188\" xlink:href=\"#DejaVuSans-61\"/>\r\n    </g>\r\n   </g>\r\n  </g>\r\n </g>\r\n <defs>\r\n  <clipPath id=\"pd7dbae94a5\">\r\n   <rect height=\"271.8\" width=\"558\" x=\"52.160938\" y=\"22.318125\"/>\r\n  </clipPath>\r\n </defs>\r\n</svg>\r\n",
            "image/png": "[encoded data removed]"
          },
          "metadata": {
            "needs_background": "light"
          }
        }
      ]
    },
    {
      "cell_type": "markdown",
      "metadata": {
        "id": "e89SSS3xgBus"
      },
      "source": [
        "## prevendo valores por metragem"
      ]
    },
    {
      "cell_type": "code",
      "metadata": {
        "colab": {
          "base_uri": "https://localhost:8080/"
        },
        "id": "xQf4dzvogB9r",
        "outputId": "6ac26e5c-e504-42f8-e2c1-8e4c4c44ae9b"
      },
      "source": [
        "meter=[[50]]\n",
        "\n",
        "scale_input = scale_y.transform(meter)\n",
        "scale_input\n",
        "\n",
        "predi= model.predict(scale_input)\n",
        "\n",
        "result = scale_y.inverse_transform(predi)\n",
        "result[0]\n",
        "\n",
        "\n",
        "\n",
        "print('Um apartamento de: ', meter[0][0], ' metros')\n",
        "print('Custaria: R$: ',result[0])"
      ],
      "execution_count": 61,
      "outputs": [
        {
          "output_type": "stream",
          "name": "stdout",
          "text": [
            "Um apartamento de:  50  metros\nCustaria: R$:  165.94398654388746\n"
          ]
        }
      ]
    },
    {
      "cell_type": "code",
      "metadata": {
        "colab": {
          "base_uri": "https://localhost:8080/"
        },
        "id": "4bwwjytMiXC3",
        "outputId": "69c361b9-ab27-4297-ce76-d5e9db51b526"
      },
      "source": [
        "model.score(x,y)"
      ],
      "execution_count": 62,
      "outputs": [
        {
          "output_type": "execute_result",
          "data": {
            "text/plain": [
              "0.9848603089943012"
            ]
          },
          "metadata": {},
          "execution_count": 62
        }
      ]
    }
  ]
}